{
  "nbformat": 4,
  "nbformat_minor": 0,
  "metadata": {
    "colab": {
      "provenance": []
    },
    "kernelspec": {
      "name": "python3",
      "display_name": "Python 3"
    },
    "language_info": {
      "name": "python"
    }
  },
  "cells": [
    {
      "cell_type": "code",
      "execution_count": 1,
      "metadata": {
        "id": "AoNSwk1NGUR3"
      },
      "outputs": [],
      "source": [
        "import pandas as pd\n",
        "from sklearn.impute import SimpleImputer\n",
        "from sklearn.metrics import accuracy_score\n",
        "from sklearn.preprocessing import LabelEncoder\n",
        "from sklearn.model_selection import train_test_split\n",
        "from sklearn.ensemble import RandomForestClassifier\n",
        "import matplotlib.pyplot as plt \n",
        "import seaborn as sns"
      ]
    },
    {
      "cell_type": "code",
      "source": [
        "train =pd.read_csv(\"train.csv\") \n",
        "test = pd.read_csv(\"test.csv\")"
      ],
      "metadata": {
        "id": "zEvUxdVZGjgP"
      },
      "execution_count": 2,
      "outputs": []
    },
    {
      "cell_type": "code",
      "source": [
        "!pip install tensorflow_decision_forests"
      ],
      "metadata": {
        "colab": {
          "base_uri": "https://localhost:8080/"
        },
        "id": "byT1OIrwG4nb",
        "outputId": "738052d6-24af-4154-cb89-3749b83caa47"
      },
      "execution_count": 3,
      "outputs": [
        {
          "output_type": "stream",
          "name": "stdout",
          "text": [
            "Looking in indexes: https://pypi.org/simple, https://us-python.pkg.dev/colab-wheels/public/simple/\n",
            "Requirement already satisfied: tensorflow_decision_forests in /usr/local/lib/python3.8/dist-packages (1.1.0)\n",
            "Requirement already satisfied: pandas in /usr/local/lib/python3.8/dist-packages (from tensorflow_decision_forests) (1.3.5)\n",
            "Requirement already satisfied: absl-py in /usr/local/lib/python3.8/dist-packages (from tensorflow_decision_forests) (1.3.0)\n",
            "Requirement already satisfied: numpy in /usr/local/lib/python3.8/dist-packages (from tensorflow_decision_forests) (1.21.6)\n",
            "Requirement already satisfied: tensorflow~=2.11.0 in /usr/local/lib/python3.8/dist-packages (from tensorflow_decision_forests) (2.11.0)\n",
            "Requirement already satisfied: wurlitzer in /usr/local/lib/python3.8/dist-packages (from tensorflow_decision_forests) (3.0.3)\n",
            "Requirement already satisfied: wheel in /usr/local/lib/python3.8/dist-packages (from tensorflow_decision_forests) (0.38.4)\n",
            "Requirement already satisfied: six in /usr/local/lib/python3.8/dist-packages (from tensorflow_decision_forests) (1.15.0)\n",
            "Requirement already satisfied: grpcio<2.0,>=1.24.3 in /usr/local/lib/python3.8/dist-packages (from tensorflow~=2.11.0->tensorflow_decision_forests) (1.51.1)\n",
            "Requirement already satisfied: setuptools in /usr/local/lib/python3.8/dist-packages (from tensorflow~=2.11.0->tensorflow_decision_forests) (57.4.0)\n",
            "Requirement already satisfied: keras<2.12,>=2.11.0 in /usr/local/lib/python3.8/dist-packages (from tensorflow~=2.11.0->tensorflow_decision_forests) (2.11.0)\n",
            "Requirement already satisfied: opt-einsum>=2.3.2 in /usr/local/lib/python3.8/dist-packages (from tensorflow~=2.11.0->tensorflow_decision_forests) (3.3.0)\n",
            "Requirement already satisfied: tensorflow-estimator<2.12,>=2.11.0 in /usr/local/lib/python3.8/dist-packages (from tensorflow~=2.11.0->tensorflow_decision_forests) (2.11.0)\n",
            "Requirement already satisfied: astunparse>=1.6.0 in /usr/local/lib/python3.8/dist-packages (from tensorflow~=2.11.0->tensorflow_decision_forests) (1.6.3)\n",
            "Requirement already satisfied: tensorboard<2.12,>=2.11 in /usr/local/lib/python3.8/dist-packages (from tensorflow~=2.11.0->tensorflow_decision_forests) (2.11.0)\n",
            "Requirement already satisfied: termcolor>=1.1.0 in /usr/local/lib/python3.8/dist-packages (from tensorflow~=2.11.0->tensorflow_decision_forests) (2.2.0)\n",
            "Requirement already satisfied: gast<=0.4.0,>=0.2.1 in /usr/local/lib/python3.8/dist-packages (from tensorflow~=2.11.0->tensorflow_decision_forests) (0.4.0)\n",
            "Requirement already satisfied: wrapt>=1.11.0 in /usr/local/lib/python3.8/dist-packages (from tensorflow~=2.11.0->tensorflow_decision_forests) (1.14.1)\n",
            "Requirement already satisfied: tensorflow-io-gcs-filesystem>=0.23.1 in /usr/local/lib/python3.8/dist-packages (from tensorflow~=2.11.0->tensorflow_decision_forests) (0.29.0)\n",
            "Requirement already satisfied: flatbuffers>=2.0 in /usr/local/lib/python3.8/dist-packages (from tensorflow~=2.11.0->tensorflow_decision_forests) (23.1.4)\n",
            "Requirement already satisfied: packaging in /usr/local/lib/python3.8/dist-packages (from tensorflow~=2.11.0->tensorflow_decision_forests) (21.3)\n",
            "Requirement already satisfied: h5py>=2.9.0 in /usr/local/lib/python3.8/dist-packages (from tensorflow~=2.11.0->tensorflow_decision_forests) (3.1.0)\n",
            "Requirement already satisfied: typing-extensions>=3.6.6 in /usr/local/lib/python3.8/dist-packages (from tensorflow~=2.11.0->tensorflow_decision_forests) (4.4.0)\n",
            "Requirement already satisfied: protobuf<3.20,>=3.9.2 in /usr/local/lib/python3.8/dist-packages (from tensorflow~=2.11.0->tensorflow_decision_forests) (3.19.6)\n",
            "Requirement already satisfied: google-pasta>=0.1.1 in /usr/local/lib/python3.8/dist-packages (from tensorflow~=2.11.0->tensorflow_decision_forests) (0.2.0)\n",
            "Requirement already satisfied: libclang>=13.0.0 in /usr/local/lib/python3.8/dist-packages (from tensorflow~=2.11.0->tensorflow_decision_forests) (14.0.6)\n",
            "Requirement already satisfied: pytz>=2017.3 in /usr/local/lib/python3.8/dist-packages (from pandas->tensorflow_decision_forests) (2022.7)\n",
            "Requirement already satisfied: python-dateutil>=2.7.3 in /usr/local/lib/python3.8/dist-packages (from pandas->tensorflow_decision_forests) (2.8.2)\n",
            "Requirement already satisfied: tensorboard-plugin-wit>=1.6.0 in /usr/local/lib/python3.8/dist-packages (from tensorboard<2.12,>=2.11->tensorflow~=2.11.0->tensorflow_decision_forests) (1.8.1)\n",
            "Requirement already satisfied: google-auth<3,>=1.6.3 in /usr/local/lib/python3.8/dist-packages (from tensorboard<2.12,>=2.11->tensorflow~=2.11.0->tensorflow_decision_forests) (2.15.0)\n",
            "Requirement already satisfied: requests<3,>=2.21.0 in /usr/local/lib/python3.8/dist-packages (from tensorboard<2.12,>=2.11->tensorflow~=2.11.0->tensorflow_decision_forests) (2.25.1)\n",
            "Requirement already satisfied: google-auth-oauthlib<0.5,>=0.4.1 in /usr/local/lib/python3.8/dist-packages (from tensorboard<2.12,>=2.11->tensorflow~=2.11.0->tensorflow_decision_forests) (0.4.6)\n",
            "Requirement already satisfied: werkzeug>=1.0.1 in /usr/local/lib/python3.8/dist-packages (from tensorboard<2.12,>=2.11->tensorflow~=2.11.0->tensorflow_decision_forests) (1.0.1)\n",
            "Requirement already satisfied: markdown>=2.6.8 in /usr/local/lib/python3.8/dist-packages (from tensorboard<2.12,>=2.11->tensorflow~=2.11.0->tensorflow_decision_forests) (3.4.1)\n",
            "Requirement already satisfied: tensorboard-data-server<0.7.0,>=0.6.0 in /usr/local/lib/python3.8/dist-packages (from tensorboard<2.12,>=2.11->tensorflow~=2.11.0->tensorflow_decision_forests) (0.6.1)\n",
            "Requirement already satisfied: pyparsing!=3.0.5,>=2.0.2 in /usr/local/lib/python3.8/dist-packages (from packaging->tensorflow~=2.11.0->tensorflow_decision_forests) (3.0.9)\n",
            "Requirement already satisfied: rsa<5,>=3.1.4 in /usr/local/lib/python3.8/dist-packages (from google-auth<3,>=1.6.3->tensorboard<2.12,>=2.11->tensorflow~=2.11.0->tensorflow_decision_forests) (4.9)\n",
            "Requirement already satisfied: cachetools<6.0,>=2.0.0 in /usr/local/lib/python3.8/dist-packages (from google-auth<3,>=1.6.3->tensorboard<2.12,>=2.11->tensorflow~=2.11.0->tensorflow_decision_forests) (5.2.0)\n",
            "Requirement already satisfied: pyasn1-modules>=0.2.1 in /usr/local/lib/python3.8/dist-packages (from google-auth<3,>=1.6.3->tensorboard<2.12,>=2.11->tensorflow~=2.11.0->tensorflow_decision_forests) (0.2.8)\n",
            "Requirement already satisfied: requests-oauthlib>=0.7.0 in /usr/local/lib/python3.8/dist-packages (from google-auth-oauthlib<0.5,>=0.4.1->tensorboard<2.12,>=2.11->tensorflow~=2.11.0->tensorflow_decision_forests) (1.3.1)\n",
            "Requirement already satisfied: importlib-metadata>=4.4 in /usr/local/lib/python3.8/dist-packages (from markdown>=2.6.8->tensorboard<2.12,>=2.11->tensorflow~=2.11.0->tensorflow_decision_forests) (6.0.0)\n",
            "Requirement already satisfied: urllib3<1.27,>=1.21.1 in /usr/local/lib/python3.8/dist-packages (from requests<3,>=2.21.0->tensorboard<2.12,>=2.11->tensorflow~=2.11.0->tensorflow_decision_forests) (1.24.3)\n",
            "Requirement already satisfied: idna<3,>=2.5 in /usr/local/lib/python3.8/dist-packages (from requests<3,>=2.21.0->tensorboard<2.12,>=2.11->tensorflow~=2.11.0->tensorflow_decision_forests) (2.10)\n",
            "Requirement already satisfied: chardet<5,>=3.0.2 in /usr/local/lib/python3.8/dist-packages (from requests<3,>=2.21.0->tensorboard<2.12,>=2.11->tensorflow~=2.11.0->tensorflow_decision_forests) (4.0.0)\n",
            "Requirement already satisfied: certifi>=2017.4.17 in /usr/local/lib/python3.8/dist-packages (from requests<3,>=2.21.0->tensorboard<2.12,>=2.11->tensorflow~=2.11.0->tensorflow_decision_forests) (2022.12.7)\n",
            "Requirement already satisfied: zipp>=0.5 in /usr/local/lib/python3.8/dist-packages (from importlib-metadata>=4.4->markdown>=2.6.8->tensorboard<2.12,>=2.11->tensorflow~=2.11.0->tensorflow_decision_forests) (3.11.0)\n",
            "Requirement already satisfied: pyasn1<0.5.0,>=0.4.6 in /usr/local/lib/python3.8/dist-packages (from pyasn1-modules>=0.2.1->google-auth<3,>=1.6.3->tensorboard<2.12,>=2.11->tensorflow~=2.11.0->tensorflow_decision_forests) (0.4.8)\n",
            "Requirement already satisfied: oauthlib>=3.0.0 in /usr/local/lib/python3.8/dist-packages (from requests-oauthlib>=0.7.0->google-auth-oauthlib<0.5,>=0.4.1->tensorboard<2.12,>=2.11->tensorflow~=2.11.0->tensorflow_decision_forests) (3.2.2)\n"
          ]
        }
      ]
    },
    {
      "cell_type": "markdown",
      "source": [
        "# Importing the necessary libraries"
      ],
      "metadata": {
        "id": "LtPv2mPKLibn"
      }
    },
    {
      "cell_type": "code",
      "source": [
        "import tensorflow_decision_forests as tfdf\n",
        "try:\n",
        "    from wurlitzer import sys_pipes\n",
        "except:\n",
        "    from colabtools.googlelog import CaptureLog as sys_pipes\n",
        "\n",
        "from IPython.core.magic import register_line_magic\n",
        "from IPython.display import Javascript"
      ],
      "metadata": {
        "id": "3kztDUK5HBta"
      },
      "execution_count": 4,
      "outputs": []
    },
    {
      "cell_type": "markdown",
      "source": [
        "# Exploring the dataset"
      ],
      "metadata": {
        "id": "1kOrihv0LoJZ"
      }
    },
    {
      "cell_type": "code",
      "source": [
        "train.head()"
      ],
      "metadata": {
        "colab": {
          "base_uri": "https://localhost:8080/",
          "height": 206
        },
        "id": "RXBXyMHnHZ9c",
        "outputId": "8a9538da-fd49-4430-83f9-7edc79d07304"
      },
      "execution_count": 5,
      "outputs": [
        {
          "output_type": "execute_result",
          "data": {
            "text/plain": [
              "  PassengerId HomePlanet CryoSleep  Cabin  Destination   Age    VIP  \\\n",
              "0     0001_01     Europa     False  B/0/P  TRAPPIST-1e  39.0  False   \n",
              "1     0002_01      Earth     False  F/0/S  TRAPPIST-1e  24.0  False   \n",
              "2     0003_01     Europa     False  A/0/S  TRAPPIST-1e  58.0   True   \n",
              "3     0003_02     Europa     False  A/0/S  TRAPPIST-1e  33.0  False   \n",
              "4     0004_01      Earth     False  F/1/S  TRAPPIST-1e  16.0  False   \n",
              "\n",
              "   RoomService  FoodCourt  ShoppingMall     Spa  VRDeck               Name  \\\n",
              "0          0.0        0.0           0.0     0.0     0.0    Maham Ofracculy   \n",
              "1        109.0        9.0          25.0   549.0    44.0       Juanna Vines   \n",
              "2         43.0     3576.0           0.0  6715.0    49.0      Altark Susent   \n",
              "3          0.0     1283.0         371.0  3329.0   193.0       Solam Susent   \n",
              "4        303.0       70.0         151.0   565.0     2.0  Willy Santantines   \n",
              "\n",
              "   Transported  \n",
              "0        False  \n",
              "1         True  \n",
              "2        False  \n",
              "3        False  \n",
              "4         True  "
            ],
            "text/html": [
              "\n",
              "  <div id=\"df-fdef3588-5b10-49d1-b510-9c5347663535\">\n",
              "    <div class=\"colab-df-container\">\n",
              "      <div>\n",
              "<style scoped>\n",
              "    .dataframe tbody tr th:only-of-type {\n",
              "        vertical-align: middle;\n",
              "    }\n",
              "\n",
              "    .dataframe tbody tr th {\n",
              "        vertical-align: top;\n",
              "    }\n",
              "\n",
              "    .dataframe thead th {\n",
              "        text-align: right;\n",
              "    }\n",
              "</style>\n",
              "<table border=\"1\" class=\"dataframe\">\n",
              "  <thead>\n",
              "    <tr style=\"text-align: right;\">\n",
              "      <th></th>\n",
              "      <th>PassengerId</th>\n",
              "      <th>HomePlanet</th>\n",
              "      <th>CryoSleep</th>\n",
              "      <th>Cabin</th>\n",
              "      <th>Destination</th>\n",
              "      <th>Age</th>\n",
              "      <th>VIP</th>\n",
              "      <th>RoomService</th>\n",
              "      <th>FoodCourt</th>\n",
              "      <th>ShoppingMall</th>\n",
              "      <th>Spa</th>\n",
              "      <th>VRDeck</th>\n",
              "      <th>Name</th>\n",
              "      <th>Transported</th>\n",
              "    </tr>\n",
              "  </thead>\n",
              "  <tbody>\n",
              "    <tr>\n",
              "      <th>0</th>\n",
              "      <td>0001_01</td>\n",
              "      <td>Europa</td>\n",
              "      <td>False</td>\n",
              "      <td>B/0/P</td>\n",
              "      <td>TRAPPIST-1e</td>\n",
              "      <td>39.0</td>\n",
              "      <td>False</td>\n",
              "      <td>0.0</td>\n",
              "      <td>0.0</td>\n",
              "      <td>0.0</td>\n",
              "      <td>0.0</td>\n",
              "      <td>0.0</td>\n",
              "      <td>Maham Ofracculy</td>\n",
              "      <td>False</td>\n",
              "    </tr>\n",
              "    <tr>\n",
              "      <th>1</th>\n",
              "      <td>0002_01</td>\n",
              "      <td>Earth</td>\n",
              "      <td>False</td>\n",
              "      <td>F/0/S</td>\n",
              "      <td>TRAPPIST-1e</td>\n",
              "      <td>24.0</td>\n",
              "      <td>False</td>\n",
              "      <td>109.0</td>\n",
              "      <td>9.0</td>\n",
              "      <td>25.0</td>\n",
              "      <td>549.0</td>\n",
              "      <td>44.0</td>\n",
              "      <td>Juanna Vines</td>\n",
              "      <td>True</td>\n",
              "    </tr>\n",
              "    <tr>\n",
              "      <th>2</th>\n",
              "      <td>0003_01</td>\n",
              "      <td>Europa</td>\n",
              "      <td>False</td>\n",
              "      <td>A/0/S</td>\n",
              "      <td>TRAPPIST-1e</td>\n",
              "      <td>58.0</td>\n",
              "      <td>True</td>\n",
              "      <td>43.0</td>\n",
              "      <td>3576.0</td>\n",
              "      <td>0.0</td>\n",
              "      <td>6715.0</td>\n",
              "      <td>49.0</td>\n",
              "      <td>Altark Susent</td>\n",
              "      <td>False</td>\n",
              "    </tr>\n",
              "    <tr>\n",
              "      <th>3</th>\n",
              "      <td>0003_02</td>\n",
              "      <td>Europa</td>\n",
              "      <td>False</td>\n",
              "      <td>A/0/S</td>\n",
              "      <td>TRAPPIST-1e</td>\n",
              "      <td>33.0</td>\n",
              "      <td>False</td>\n",
              "      <td>0.0</td>\n",
              "      <td>1283.0</td>\n",
              "      <td>371.0</td>\n",
              "      <td>3329.0</td>\n",
              "      <td>193.0</td>\n",
              "      <td>Solam Susent</td>\n",
              "      <td>False</td>\n",
              "    </tr>\n",
              "    <tr>\n",
              "      <th>4</th>\n",
              "      <td>0004_01</td>\n",
              "      <td>Earth</td>\n",
              "      <td>False</td>\n",
              "      <td>F/1/S</td>\n",
              "      <td>TRAPPIST-1e</td>\n",
              "      <td>16.0</td>\n",
              "      <td>False</td>\n",
              "      <td>303.0</td>\n",
              "      <td>70.0</td>\n",
              "      <td>151.0</td>\n",
              "      <td>565.0</td>\n",
              "      <td>2.0</td>\n",
              "      <td>Willy Santantines</td>\n",
              "      <td>True</td>\n",
              "    </tr>\n",
              "  </tbody>\n",
              "</table>\n",
              "</div>\n",
              "      <button class=\"colab-df-convert\" onclick=\"convertToInteractive('df-fdef3588-5b10-49d1-b510-9c5347663535')\"\n",
              "              title=\"Convert this dataframe to an interactive table.\"\n",
              "              style=\"display:none;\">\n",
              "        \n",
              "  <svg xmlns=\"http://www.w3.org/2000/svg\" height=\"24px\"viewBox=\"0 0 24 24\"\n",
              "       width=\"24px\">\n",
              "    <path d=\"M0 0h24v24H0V0z\" fill=\"none\"/>\n",
              "    <path d=\"M18.56 5.44l.94 2.06.94-2.06 2.06-.94-2.06-.94-.94-2.06-.94 2.06-2.06.94zm-11 1L8.5 8.5l.94-2.06 2.06-.94-2.06-.94L8.5 2.5l-.94 2.06-2.06.94zm10 10l.94 2.06.94-2.06 2.06-.94-2.06-.94-.94-2.06-.94 2.06-2.06.94z\"/><path d=\"M17.41 7.96l-1.37-1.37c-.4-.4-.92-.59-1.43-.59-.52 0-1.04.2-1.43.59L10.3 9.45l-7.72 7.72c-.78.78-.78 2.05 0 2.83L4 21.41c.39.39.9.59 1.41.59.51 0 1.02-.2 1.41-.59l7.78-7.78 2.81-2.81c.8-.78.8-2.07 0-2.86zM5.41 20L4 18.59l7.72-7.72 1.47 1.35L5.41 20z\"/>\n",
              "  </svg>\n",
              "      </button>\n",
              "      \n",
              "  <style>\n",
              "    .colab-df-container {\n",
              "      display:flex;\n",
              "      flex-wrap:wrap;\n",
              "      gap: 12px;\n",
              "    }\n",
              "\n",
              "    .colab-df-convert {\n",
              "      background-color: #E8F0FE;\n",
              "      border: none;\n",
              "      border-radius: 50%;\n",
              "      cursor: pointer;\n",
              "      display: none;\n",
              "      fill: #1967D2;\n",
              "      height: 32px;\n",
              "      padding: 0 0 0 0;\n",
              "      width: 32px;\n",
              "    }\n",
              "\n",
              "    .colab-df-convert:hover {\n",
              "      background-color: #E2EBFA;\n",
              "      box-shadow: 0px 1px 2px rgba(60, 64, 67, 0.3), 0px 1px 3px 1px rgba(60, 64, 67, 0.15);\n",
              "      fill: #174EA6;\n",
              "    }\n",
              "\n",
              "    [theme=dark] .colab-df-convert {\n",
              "      background-color: #3B4455;\n",
              "      fill: #D2E3FC;\n",
              "    }\n",
              "\n",
              "    [theme=dark] .colab-df-convert:hover {\n",
              "      background-color: #434B5C;\n",
              "      box-shadow: 0px 1px 3px 1px rgba(0, 0, 0, 0.15);\n",
              "      filter: drop-shadow(0px 1px 2px rgba(0, 0, 0, 0.3));\n",
              "      fill: #FFFFFF;\n",
              "    }\n",
              "  </style>\n",
              "\n",
              "      <script>\n",
              "        const buttonEl =\n",
              "          document.querySelector('#df-fdef3588-5b10-49d1-b510-9c5347663535 button.colab-df-convert');\n",
              "        buttonEl.style.display =\n",
              "          google.colab.kernel.accessAllowed ? 'block' : 'none';\n",
              "\n",
              "        async function convertToInteractive(key) {\n",
              "          const element = document.querySelector('#df-fdef3588-5b10-49d1-b510-9c5347663535');\n",
              "          const dataTable =\n",
              "            await google.colab.kernel.invokeFunction('convertToInteractive',\n",
              "                                                     [key], {});\n",
              "          if (!dataTable) return;\n",
              "\n",
              "          const docLinkHtml = 'Like what you see? Visit the ' +\n",
              "            '<a target=\"_blank\" href=https://colab.research.google.com/notebooks/data_table.ipynb>data table notebook</a>'\n",
              "            + ' to learn more about interactive tables.';\n",
              "          element.innerHTML = '';\n",
              "          dataTable['output_type'] = 'display_data';\n",
              "          await google.colab.output.renderOutput(dataTable, element);\n",
              "          const docLink = document.createElement('div');\n",
              "          docLink.innerHTML = docLinkHtml;\n",
              "          element.appendChild(docLink);\n",
              "        }\n",
              "      </script>\n",
              "    </div>\n",
              "  </div>\n",
              "  "
            ]
          },
          "metadata": {},
          "execution_count": 5
        }
      ]
    },
    {
      "cell_type": "code",
      "source": [
        "train.describe()"
      ],
      "metadata": {
        "colab": {
          "base_uri": "https://localhost:8080/",
          "height": 300
        },
        "id": "utwN79xTHhLr",
        "outputId": "5318dc56-7eed-4c28-f68c-56008b4161b9"
      },
      "execution_count": 6,
      "outputs": [
        {
          "output_type": "execute_result",
          "data": {
            "text/plain": [
              "               Age   RoomService     FoodCourt  ShoppingMall           Spa  \\\n",
              "count  8514.000000   8512.000000   8510.000000   8485.000000   8510.000000   \n",
              "mean     28.827930    224.687617    458.077203    173.729169    311.138778   \n",
              "std      14.489021    666.717663   1611.489240    604.696458   1136.705535   \n",
              "min       0.000000      0.000000      0.000000      0.000000      0.000000   \n",
              "25%      19.000000      0.000000      0.000000      0.000000      0.000000   \n",
              "50%      27.000000      0.000000      0.000000      0.000000      0.000000   \n",
              "75%      38.000000     47.000000     76.000000     27.000000     59.000000   \n",
              "max      79.000000  14327.000000  29813.000000  23492.000000  22408.000000   \n",
              "\n",
              "             VRDeck  \n",
              "count   8505.000000  \n",
              "mean     304.854791  \n",
              "std     1145.717189  \n",
              "min        0.000000  \n",
              "25%        0.000000  \n",
              "50%        0.000000  \n",
              "75%       46.000000  \n",
              "max    24133.000000  "
            ],
            "text/html": [
              "\n",
              "  <div id=\"df-189b642e-1097-4b42-9770-026d020bca71\">\n",
              "    <div class=\"colab-df-container\">\n",
              "      <div>\n",
              "<style scoped>\n",
              "    .dataframe tbody tr th:only-of-type {\n",
              "        vertical-align: middle;\n",
              "    }\n",
              "\n",
              "    .dataframe tbody tr th {\n",
              "        vertical-align: top;\n",
              "    }\n",
              "\n",
              "    .dataframe thead th {\n",
              "        text-align: right;\n",
              "    }\n",
              "</style>\n",
              "<table border=\"1\" class=\"dataframe\">\n",
              "  <thead>\n",
              "    <tr style=\"text-align: right;\">\n",
              "      <th></th>\n",
              "      <th>Age</th>\n",
              "      <th>RoomService</th>\n",
              "      <th>FoodCourt</th>\n",
              "      <th>ShoppingMall</th>\n",
              "      <th>Spa</th>\n",
              "      <th>VRDeck</th>\n",
              "    </tr>\n",
              "  </thead>\n",
              "  <tbody>\n",
              "    <tr>\n",
              "      <th>count</th>\n",
              "      <td>8514.000000</td>\n",
              "      <td>8512.000000</td>\n",
              "      <td>8510.000000</td>\n",
              "      <td>8485.000000</td>\n",
              "      <td>8510.000000</td>\n",
              "      <td>8505.000000</td>\n",
              "    </tr>\n",
              "    <tr>\n",
              "      <th>mean</th>\n",
              "      <td>28.827930</td>\n",
              "      <td>224.687617</td>\n",
              "      <td>458.077203</td>\n",
              "      <td>173.729169</td>\n",
              "      <td>311.138778</td>\n",
              "      <td>304.854791</td>\n",
              "    </tr>\n",
              "    <tr>\n",
              "      <th>std</th>\n",
              "      <td>14.489021</td>\n",
              "      <td>666.717663</td>\n",
              "      <td>1611.489240</td>\n",
              "      <td>604.696458</td>\n",
              "      <td>1136.705535</td>\n",
              "      <td>1145.717189</td>\n",
              "    </tr>\n",
              "    <tr>\n",
              "      <th>min</th>\n",
              "      <td>0.000000</td>\n",
              "      <td>0.000000</td>\n",
              "      <td>0.000000</td>\n",
              "      <td>0.000000</td>\n",
              "      <td>0.000000</td>\n",
              "      <td>0.000000</td>\n",
              "    </tr>\n",
              "    <tr>\n",
              "      <th>25%</th>\n",
              "      <td>19.000000</td>\n",
              "      <td>0.000000</td>\n",
              "      <td>0.000000</td>\n",
              "      <td>0.000000</td>\n",
              "      <td>0.000000</td>\n",
              "      <td>0.000000</td>\n",
              "    </tr>\n",
              "    <tr>\n",
              "      <th>50%</th>\n",
              "      <td>27.000000</td>\n",
              "      <td>0.000000</td>\n",
              "      <td>0.000000</td>\n",
              "      <td>0.000000</td>\n",
              "      <td>0.000000</td>\n",
              "      <td>0.000000</td>\n",
              "    </tr>\n",
              "    <tr>\n",
              "      <th>75%</th>\n",
              "      <td>38.000000</td>\n",
              "      <td>47.000000</td>\n",
              "      <td>76.000000</td>\n",
              "      <td>27.000000</td>\n",
              "      <td>59.000000</td>\n",
              "      <td>46.000000</td>\n",
              "    </tr>\n",
              "    <tr>\n",
              "      <th>max</th>\n",
              "      <td>79.000000</td>\n",
              "      <td>14327.000000</td>\n",
              "      <td>29813.000000</td>\n",
              "      <td>23492.000000</td>\n",
              "      <td>22408.000000</td>\n",
              "      <td>24133.000000</td>\n",
              "    </tr>\n",
              "  </tbody>\n",
              "</table>\n",
              "</div>\n",
              "      <button class=\"colab-df-convert\" onclick=\"convertToInteractive('df-189b642e-1097-4b42-9770-026d020bca71')\"\n",
              "              title=\"Convert this dataframe to an interactive table.\"\n",
              "              style=\"display:none;\">\n",
              "        \n",
              "  <svg xmlns=\"http://www.w3.org/2000/svg\" height=\"24px\"viewBox=\"0 0 24 24\"\n",
              "       width=\"24px\">\n",
              "    <path d=\"M0 0h24v24H0V0z\" fill=\"none\"/>\n",
              "    <path d=\"M18.56 5.44l.94 2.06.94-2.06 2.06-.94-2.06-.94-.94-2.06-.94 2.06-2.06.94zm-11 1L8.5 8.5l.94-2.06 2.06-.94-2.06-.94L8.5 2.5l-.94 2.06-2.06.94zm10 10l.94 2.06.94-2.06 2.06-.94-2.06-.94-.94-2.06-.94 2.06-2.06.94z\"/><path d=\"M17.41 7.96l-1.37-1.37c-.4-.4-.92-.59-1.43-.59-.52 0-1.04.2-1.43.59L10.3 9.45l-7.72 7.72c-.78.78-.78 2.05 0 2.83L4 21.41c.39.39.9.59 1.41.59.51 0 1.02-.2 1.41-.59l7.78-7.78 2.81-2.81c.8-.78.8-2.07 0-2.86zM5.41 20L4 18.59l7.72-7.72 1.47 1.35L5.41 20z\"/>\n",
              "  </svg>\n",
              "      </button>\n",
              "      \n",
              "  <style>\n",
              "    .colab-df-container {\n",
              "      display:flex;\n",
              "      flex-wrap:wrap;\n",
              "      gap: 12px;\n",
              "    }\n",
              "\n",
              "    .colab-df-convert {\n",
              "      background-color: #E8F0FE;\n",
              "      border: none;\n",
              "      border-radius: 50%;\n",
              "      cursor: pointer;\n",
              "      display: none;\n",
              "      fill: #1967D2;\n",
              "      height: 32px;\n",
              "      padding: 0 0 0 0;\n",
              "      width: 32px;\n",
              "    }\n",
              "\n",
              "    .colab-df-convert:hover {\n",
              "      background-color: #E2EBFA;\n",
              "      box-shadow: 0px 1px 2px rgba(60, 64, 67, 0.3), 0px 1px 3px 1px rgba(60, 64, 67, 0.15);\n",
              "      fill: #174EA6;\n",
              "    }\n",
              "\n",
              "    [theme=dark] .colab-df-convert {\n",
              "      background-color: #3B4455;\n",
              "      fill: #D2E3FC;\n",
              "    }\n",
              "\n",
              "    [theme=dark] .colab-df-convert:hover {\n",
              "      background-color: #434B5C;\n",
              "      box-shadow: 0px 1px 3px 1px rgba(0, 0, 0, 0.15);\n",
              "      filter: drop-shadow(0px 1px 2px rgba(0, 0, 0, 0.3));\n",
              "      fill: #FFFFFF;\n",
              "    }\n",
              "  </style>\n",
              "\n",
              "      <script>\n",
              "        const buttonEl =\n",
              "          document.querySelector('#df-189b642e-1097-4b42-9770-026d020bca71 button.colab-df-convert');\n",
              "        buttonEl.style.display =\n",
              "          google.colab.kernel.accessAllowed ? 'block' : 'none';\n",
              "\n",
              "        async function convertToInteractive(key) {\n",
              "          const element = document.querySelector('#df-189b642e-1097-4b42-9770-026d020bca71');\n",
              "          const dataTable =\n",
              "            await google.colab.kernel.invokeFunction('convertToInteractive',\n",
              "                                                     [key], {});\n",
              "          if (!dataTable) return;\n",
              "\n",
              "          const docLinkHtml = 'Like what you see? Visit the ' +\n",
              "            '<a target=\"_blank\" href=https://colab.research.google.com/notebooks/data_table.ipynb>data table notebook</a>'\n",
              "            + ' to learn more about interactive tables.';\n",
              "          element.innerHTML = '';\n",
              "          dataTable['output_type'] = 'display_data';\n",
              "          await google.colab.output.renderOutput(dataTable, element);\n",
              "          const docLink = document.createElement('div');\n",
              "          docLink.innerHTML = docLinkHtml;\n",
              "          element.appendChild(docLink);\n",
              "        }\n",
              "      </script>\n",
              "    </div>\n",
              "  </div>\n",
              "  "
            ]
          },
          "metadata": {},
          "execution_count": 6
        }
      ]
    },
    {
      "cell_type": "code",
      "source": [
        "train.info()"
      ],
      "metadata": {
        "colab": {
          "base_uri": "https://localhost:8080/"
        },
        "id": "fPW7jlm1HlFA",
        "outputId": "178b70b6-1119-4517-9f04-f20dd0f76477"
      },
      "execution_count": 7,
      "outputs": [
        {
          "output_type": "stream",
          "name": "stdout",
          "text": [
            "<class 'pandas.core.frame.DataFrame'>\n",
            "RangeIndex: 8693 entries, 0 to 8692\n",
            "Data columns (total 14 columns):\n",
            " #   Column        Non-Null Count  Dtype  \n",
            "---  ------        --------------  -----  \n",
            " 0   PassengerId   8693 non-null   object \n",
            " 1   HomePlanet    8492 non-null   object \n",
            " 2   CryoSleep     8476 non-null   object \n",
            " 3   Cabin         8494 non-null   object \n",
            " 4   Destination   8511 non-null   object \n",
            " 5   Age           8514 non-null   float64\n",
            " 6   VIP           8490 non-null   object \n",
            " 7   RoomService   8512 non-null   float64\n",
            " 8   FoodCourt     8510 non-null   float64\n",
            " 9   ShoppingMall  8485 non-null   float64\n",
            " 10  Spa           8510 non-null   float64\n",
            " 11  VRDeck        8505 non-null   float64\n",
            " 12  Name          8493 non-null   object \n",
            " 13  Transported   8693 non-null   bool   \n",
            "dtypes: bool(1), float64(6), object(7)\n",
            "memory usage: 891.5+ KB\n"
          ]
        }
      ]
    },
    {
      "cell_type": "code",
      "source": [
        "train.isnull().sum().sort_values(ascending=False)"
      ],
      "metadata": {
        "colab": {
          "base_uri": "https://localhost:8080/"
        },
        "id": "IJlK-I7OHsl7",
        "outputId": "83046d89-37fe-45b1-c2ed-a77a298944a0"
      },
      "execution_count": 8,
      "outputs": [
        {
          "output_type": "execute_result",
          "data": {
            "text/plain": [
              "CryoSleep       217\n",
              "ShoppingMall    208\n",
              "VIP             203\n",
              "HomePlanet      201\n",
              "Name            200\n",
              "Cabin           199\n",
              "VRDeck          188\n",
              "FoodCourt       183\n",
              "Spa             183\n",
              "Destination     182\n",
              "RoomService     181\n",
              "Age             179\n",
              "PassengerId       0\n",
              "Transported       0\n",
              "dtype: int64"
            ]
          },
          "metadata": {},
          "execution_count": 8
        }
      ]
    },
    {
      "cell_type": "markdown",
      "source": [
        "# Pre processing"
      ],
      "metadata": {
        "id": "HvMqUpIhL33Z"
      }
    },
    {
      "cell_type": "code",
      "source": [
        "train[['Transported', 'VIP', 'CryoSleep', 'FoodCourt', 'ShoppingMall', 'Spa', 'VRDeck']] = train[['Transported', 'VIP', 'CryoSleep', 'FoodCourt', 'ShoppingMall', 'Spa', 'VRDeck']].fillna(value=0)"
      ],
      "metadata": {
        "id": "L27-jWTZHw0W"
      },
      "execution_count": 9,
      "outputs": []
    },
    {
      "cell_type": "code",
      "source": [
        "train.isnull().sum()"
      ],
      "metadata": {
        "colab": {
          "base_uri": "https://localhost:8080/"
        },
        "id": "QOCwZfSDGGMw",
        "outputId": "704a378c-8552-47a0-95e1-2f082dc76667"
      },
      "execution_count": 10,
      "outputs": [
        {
          "output_type": "execute_result",
          "data": {
            "text/plain": [
              "PassengerId       0\n",
              "HomePlanet      201\n",
              "CryoSleep         0\n",
              "Cabin           199\n",
              "Destination     182\n",
              "Age             179\n",
              "VIP               0\n",
              "RoomService     181\n",
              "FoodCourt         0\n",
              "ShoppingMall      0\n",
              "Spa               0\n",
              "VRDeck            0\n",
              "Name            200\n",
              "Transported       0\n",
              "dtype: int64"
            ]
          },
          "metadata": {},
          "execution_count": 10
        }
      ]
    },
    {
      "cell_type": "code",
      "source": [
        "train['Transported'] = train['Transported'].astype(int)\n",
        "train['VIP'] = train['VIP'].astype(int)\n",
        "train['CryoSleep'] = train['CryoSleep'].astype(int)"
      ],
      "metadata": {
        "id": "BvLEsAz0H3bC"
      },
      "execution_count": 11,
      "outputs": []
    },
    {
      "cell_type": "code",
      "source": [
        "import numpy as np"
      ],
      "metadata": {
        "id": "lccQesSXIQQr"
      },
      "execution_count": 12,
      "outputs": []
    },
    {
      "cell_type": "markdown",
      "source": [
        "# Training and evaluation"
      ],
      "metadata": {
        "id": "9E1_bGq6MDqs"
      }
    },
    {
      "cell_type": "code",
      "source": [
        "# Split the dataset into a training and a testing dataset.\n",
        "\n",
        "def split_dataset(dataset, test_ratio=0.10):\n",
        "  \"\"\"Splits a panda dataframe in two.\"\"\"\n",
        "  test_indices = np.random.rand(len(dataset)) < test_ratio\n",
        "  return dataset[~test_indices], dataset[test_indices]\n",
        "\n",
        "\n",
        "train_ds_pd, test_ds_pd = split_dataset(train)\n",
        "print(\"{} examples in training, {} examples for testing.\".format(len(train_ds_pd), len(test_ds_pd)))"
      ],
      "metadata": {
        "colab": {
          "base_uri": "https://localhost:8080/"
        },
        "id": "sCFeNYaKIC2E",
        "outputId": "53002767-1735-4662-bb4c-60be4e56587f"
      },
      "execution_count": 13,
      "outputs": [
        {
          "output_type": "stream",
          "name": "stdout",
          "text": [
            "7830 examples in training, 863 examples for testing.\n"
          ]
        }
      ]
    },
    {
      "cell_type": "code",
      "source": [
        "train_ds = tfdf.keras.pd_dataframe_to_tf_dataset(train_ds_pd, label=\"Transported\")\n",
        "test_ds = tfdf.keras.pd_dataframe_to_tf_dataset(test_ds_pd, label=\"Transported\")"
      ],
      "metadata": {
        "id": "vpx0-7APIKsE"
      },
      "execution_count": 14,
      "outputs": []
    },
    {
      "cell_type": "markdown",
      "source": [
        "# Tf-df provides GradientBoosted Trees"
      ],
      "metadata": {
        "id": "yYcZ00kgMUvT"
      }
    },
    {
      "cell_type": "code",
      "source": [
        "# Specify the model.\n",
        "model_1 = tfdf.keras.GradientBoostedTreesModel(\n",
        "    num_trees=435,\n",
        "    growing_strategy=\"BEST_FIRST_GLOBAL\",\n",
        "    max_depth=8,\n",
        "    split_axis=\"AXIS_ALIGNED\",\n",
        "    categorical_algorithm=\"RANDOM\",)\n",
        "\n",
        "# Optionally, add evaluation metrics.\n",
        "model_1.compile(\n",
        "    metrics=[\"accuracy\"])\n",
        "\n",
        "# Train the model.\n",
        "\n",
        "model_1.fit(x=train_ds, validation_data=test_ds)"
      ],
      "metadata": {
        "colab": {
          "base_uri": "https://localhost:8080/"
        },
        "id": "sHh_yLTJIXTQ",
        "outputId": "0eeb5782-9e72-41f6-f8d2-7c35ffb8caf3"
      },
      "execution_count": 15,
      "outputs": [
        {
          "output_type": "stream",
          "name": "stdout",
          "text": [
            "Use /tmp/tmpta4v9kpg as temporary training directory\n",
            "Reading training dataset...\n"
          ]
        },
        {
          "output_type": "stream",
          "name": "stderr",
          "text": [
            "WARNING:tensorflow:From /usr/local/lib/python3.8/dist-packages/tensorflow/python/autograph/pyct/static_analysis/liveness.py:83: Analyzer.lamba_check (from tensorflow.python.autograph.pyct.static_analysis.liveness) is deprecated and will be removed after 2023-09-23.\n",
            "Instructions for updating:\n",
            "Lambda fuctions will be no more assumed to be used in the statement where they are used, or at least in the same block. https://github.com/tensorflow/tensorflow/issues/56089\n"
          ]
        },
        {
          "output_type": "stream",
          "name": "stdout",
          "text": [
            "Training dataset read in 0:00:05.340510. Found 7830 examples.\n",
            "Reading validation dataset...\n",
            "Num validation examples: tf.Tensor(863, shape=(), dtype=int32)\n",
            "Validation dataset read in 0:00:00.396483. Found 863 examples.\n",
            "Training model...\n",
            "Model trained in 0:00:14.434278\n",
            "Compiling model...\n"
          ]
        },
        {
          "output_type": "stream",
          "name": "stderr",
          "text": [
            "WARNING:tensorflow:AutoGraph could not transform <function simple_ml_inference_op_with_handle at 0x7f88a3e211f0> and will run it as-is.\n",
            "Please report this to the TensorFlow team. When filing the bug, set the verbosity to 10 (on Linux, `export AUTOGRAPH_VERBOSITY=10`) and attach the full output.\n",
            "Cause: could not get source code\n",
            "To silence this warning, decorate the function with @tf.autograph.experimental.do_not_convert\n"
          ]
        },
        {
          "output_type": "stream",
          "name": "stdout",
          "text": [
            "WARNING: AutoGraph could not transform <function simple_ml_inference_op_with_handle at 0x7f88a3e211f0> and will run it as-is.\n",
            "Please report this to the TensorFlow team. When filing the bug, set the verbosity to 10 (on Linux, `export AUTOGRAPH_VERBOSITY=10`) and attach the full output.\n",
            "Cause: could not get source code\n",
            "To silence this warning, decorate the function with @tf.autograph.experimental.do_not_convert\n",
            "Model compiled.\n"
          ]
        },
        {
          "output_type": "execute_result",
          "data": {
            "text/plain": [
              "<keras.callbacks.History at 0x7f88a2a04d00>"
            ]
          },
          "metadata": {},
          "execution_count": 15
        }
      ]
    },
    {
      "cell_type": "markdown",
      "source": [
        "# Evaluation"
      ],
      "metadata": {
        "id": "2IyYC4Z0MfIP"
      }
    },
    {
      "cell_type": "code",
      "source": [
        "evaluation = model_1.evaluate(test_ds, return_dict=True)\n",
        "print()\n",
        "\n",
        "for name, value in evaluation.items():\n",
        "  print(f\"{name}: {value:.4f}\")"
      ],
      "metadata": {
        "colab": {
          "base_uri": "https://localhost:8080/"
        },
        "id": "TBMBMNoCIbCC",
        "outputId": "7824fd4f-9f2d-472b-9de0-6fe2a4b7c359"
      },
      "execution_count": 16,
      "outputs": [
        {
          "output_type": "stream",
          "name": "stdout",
          "text": [
            "1/1 [==============================] - 1s 664ms/step - loss: 0.0000e+00 - accuracy: 0.8158\n",
            "\n",
            "loss: 0.0000\n",
            "accuracy: 0.8158\n"
          ]
        }
      ]
    },
    {
      "cell_type": "markdown",
      "source": [
        "# Inspecting model structures and hidden score"
      ],
      "metadata": {
        "id": "r0xPcQiiMnWP"
      }
    },
    {
      "cell_type": "code",
      "source": [
        "model_1.summary()"
      ],
      "metadata": {
        "colab": {
          "base_uri": "https://localhost:8080/"
        },
        "id": "cDA3Vob1IhLI",
        "outputId": "01634830-d1d8-4375-8c88-6951ac5948fe"
      },
      "execution_count": 17,
      "outputs": [
        {
          "output_type": "stream",
          "name": "stdout",
          "text": [
            "Model: \"gradient_boosted_trees_model\"\n",
            "_________________________________________________________________\n",
            " Layer (type)                Output Shape              Param #   \n",
            "=================================================================\n",
            "=================================================================\n",
            "Total params: 1\n",
            "Trainable params: 0\n",
            "Non-trainable params: 1\n",
            "_________________________________________________________________\n",
            "Type: \"GRADIENT_BOOSTED_TREES\"\n",
            "Task: CLASSIFICATION\n",
            "Label: \"__LABEL\"\n",
            "\n",
            "Input Features (13):\n",
            "\tAge\n",
            "\tCabin\n",
            "\tCryoSleep\n",
            "\tDestination\n",
            "\tFoodCourt\n",
            "\tHomePlanet\n",
            "\tName\n",
            "\tPassengerId\n",
            "\tRoomService\n",
            "\tShoppingMall\n",
            "\tSpa\n",
            "\tVIP\n",
            "\tVRDeck\n",
            "\n",
            "No weights\n",
            "\n",
            "Variable Importance: MEAN_MIN_DEPTH:\n",
            "    1.         \"Name\"  6.238127 ################\n",
            "    2.  \"PassengerId\"  6.238127 ################\n",
            "    3.      \"__LABEL\"  6.238127 ################\n",
            "    4.          \"VIP\"  6.204145 ###############\n",
            "    5.  \"Destination\"  5.447189 ##########\n",
            "    6.   \"HomePlanet\"  5.092826 #######\n",
            "    7.        \"Cabin\"  4.985726 ######\n",
            "    8. \"ShoppingMall\"  4.605270 ###\n",
            "    9.    \"CryoSleep\"  4.539284 ###\n",
            "   10.    \"FoodCourt\"  4.429796 ##\n",
            "   11.          \"Age\"  4.227735 \n",
            "   12.          \"Spa\"  4.206591 \n",
            "   13.       \"VRDeck\"  4.119798 \n",
            "   14.  \"RoomService\"  4.096725 \n",
            "\n",
            "Variable Importance: NUM_AS_ROOT:\n",
            "    1.    \"CryoSleep\" 35.000000 ################\n",
            "    2.  \"RoomService\" 25.000000 ###########\n",
            "    3.       \"VRDeck\" 20.000000 ########\n",
            "    4.        \"Cabin\" 15.000000 ######\n",
            "    5. \"ShoppingMall\" 11.000000 ####\n",
            "    6.          \"Age\"  8.000000 ###\n",
            "    7.          \"Spa\"  8.000000 ###\n",
            "    8.  \"Destination\"  5.000000 #\n",
            "    9.    \"FoodCourt\"  3.000000 \n",
            "   10.   \"HomePlanet\"  1.000000 \n",
            "\n",
            "Variable Importance: NUM_NODES:\n",
            "    1.          \"Age\" 629.000000 ################\n",
            "    2. \"ShoppingMall\" 558.000000 ##############\n",
            "    3.    \"FoodCourt\" 529.000000 #############\n",
            "    4.          \"Spa\" 520.000000 #############\n",
            "    5.       \"VRDeck\" 520.000000 #############\n",
            "    6.  \"RoomService\" 457.000000 ###########\n",
            "    7.        \"Cabin\" 341.000000 ########\n",
            "    8.   \"HomePlanet\" 163.000000 ###\n",
            "    9.  \"Destination\" 150.000000 ###\n",
            "   10.    \"CryoSleep\" 51.000000 #\n",
            "   11.          \"VIP\" 11.000000 \n",
            "\n",
            "Variable Importance: SUM_SCORE:\n",
            "    1.    \"CryoSleep\" 2227.616409 ################\n",
            "    2.       \"VRDeck\" 772.151721 #####\n",
            "    3.          \"Spa\" 726.307820 #####\n",
            "    4.    \"FoodCourt\" 613.454583 ####\n",
            "    5.  \"RoomService\" 503.821705 ###\n",
            "    6.   \"HomePlanet\" 479.501901 ###\n",
            "    7. \"ShoppingMall\" 379.986484 ##\n",
            "    8.          \"Age\" 347.187897 ##\n",
            "    9.        \"Cabin\" 179.514603 #\n",
            "   10.  \"Destination\" 81.728927 \n",
            "   11.          \"VIP\"  3.290066 \n",
            "\n",
            "\n",
            "\n",
            "Loss: BINOMIAL_LOG_LIKELIHOOD\n",
            "Validation loss value: 0.832601\n",
            "Number of trees per iteration: 1\n",
            "Node format: NOT_SET\n",
            "Number of trees: 131\n",
            "Total number of nodes: 7989\n",
            "\n",
            "Number of nodes by tree:\n",
            "Count: 131 Average: 60.9847 StdDev: 0.174073\n",
            "Min: 59 Max: 61 Ignored: 0\n",
            "----------------------------------------------\n",
            "[ 59, 60)   1   0.76%   0.76%\n",
            "[ 60, 61)   0   0.00%   0.76%\n",
            "[ 61, 61] 130  99.24% 100.00% ##########\n",
            "\n",
            "Depth by leafs:\n",
            "Count: 4060 Average: 6.23818 StdDev: 1.75807\n",
            "Min: 1 Max: 8 Ignored: 0\n",
            "----------------------------------------------\n",
            "[ 1, 2)   28   0.69%   0.69%\n",
            "[ 2, 3)  104   2.56%   3.25% #\n",
            "[ 3, 4)  238   5.86%   9.11% ##\n",
            "[ 4, 5)  371   9.14%  18.25% ###\n",
            "[ 5, 6)  521  12.83%  31.08% ####\n",
            "[ 6, 7)  682  16.80%  47.88% #####\n",
            "[ 7, 8)  732  18.03%  65.91% #####\n",
            "[ 8, 8] 1384  34.09% 100.00% ##########\n",
            "\n",
            "Number of training obs by leaf:\n",
            "Count: 4060 Average: 0 StdDev: 0\n",
            "Min: 0 Max: 0 Ignored: 0\n",
            "----------------------------------------------\n",
            "[ 0, 0] 4060 100.00% 100.00% ##########\n",
            "\n",
            "Attribute in nodes:\n",
            "\t629 : Age [NUMERICAL]\n",
            "\t558 : ShoppingMall [NUMERICAL]\n",
            "\t529 : FoodCourt [NUMERICAL]\n",
            "\t520 : VRDeck [NUMERICAL]\n",
            "\t520 : Spa [NUMERICAL]\n",
            "\t457 : RoomService [NUMERICAL]\n",
            "\t341 : Cabin [CATEGORICAL]\n",
            "\t163 : HomePlanet [CATEGORICAL]\n",
            "\t150 : Destination [CATEGORICAL]\n",
            "\t51 : CryoSleep [NUMERICAL]\n",
            "\t11 : VIP [NUMERICAL]\n",
            "\n",
            "Attribute in nodes with depth <= 0:\n",
            "\t35 : CryoSleep [NUMERICAL]\n",
            "\t25 : RoomService [NUMERICAL]\n",
            "\t20 : VRDeck [NUMERICAL]\n",
            "\t15 : Cabin [CATEGORICAL]\n",
            "\t11 : ShoppingMall [NUMERICAL]\n",
            "\t8 : Spa [NUMERICAL]\n",
            "\t8 : Age [NUMERICAL]\n",
            "\t5 : Destination [CATEGORICAL]\n",
            "\t3 : FoodCourt [NUMERICAL]\n",
            "\t1 : HomePlanet [CATEGORICAL]\n",
            "\n",
            "Attribute in nodes with depth <= 1:\n",
            "\t74 : RoomService [NUMERICAL]\n",
            "\t45 : VRDeck [NUMERICAL]\n",
            "\t40 : Cabin [CATEGORICAL]\n",
            "\t38 : HomePlanet [CATEGORICAL]\n",
            "\t38 : Age [NUMERICAL]\n",
            "\t35 : CryoSleep [NUMERICAL]\n",
            "\t32 : FoodCourt [NUMERICAL]\n",
            "\t30 : ShoppingMall [NUMERICAL]\n",
            "\t23 : Spa [NUMERICAL]\n",
            "\t10 : Destination [CATEGORICAL]\n",
            "\n",
            "Attribute in nodes with depth <= 2:\n",
            "\t121 : RoomService [NUMERICAL]\n",
            "\t84 : Age [NUMERICAL]\n",
            "\t82 : Cabin [CATEGORICAL]\n",
            "\t81 : VRDeck [NUMERICAL]\n",
            "\t80 : FoodCourt [NUMERICAL]\n",
            "\t78 : Spa [NUMERICAL]\n",
            "\t71 : ShoppingMall [NUMERICAL]\n",
            "\t66 : HomePlanet [CATEGORICAL]\n",
            "\t37 : CryoSleep [NUMERICAL]\n",
            "\t29 : Destination [CATEGORICAL]\n",
            "\n",
            "Attribute in nodes with depth <= 3:\n",
            "\t167 : Age [NUMERICAL]\n",
            "\t159 : RoomService [NUMERICAL]\n",
            "\t152 : FoodCourt [NUMERICAL]\n",
            "\t148 : ShoppingMall [NUMERICAL]\n",
            "\t145 : Spa [NUMERICAL]\n",
            "\t145 : Cabin [CATEGORICAL]\n",
            "\t131 : VRDeck [NUMERICAL]\n",
            "\t84 : HomePlanet [CATEGORICAL]\n",
            "\t50 : Destination [CATEGORICAL]\n",
            "\t37 : CryoSleep [NUMERICAL]\n",
            "\t1 : VIP [NUMERICAL]\n",
            "\n",
            "Attribute in nodes with depth <= 5:\n",
            "\t381 : Age [NUMERICAL]\n",
            "\t366 : ShoppingMall [NUMERICAL]\n",
            "\t335 : VRDeck [NUMERICAL]\n",
            "\t324 : Spa [NUMERICAL]\n",
            "\t308 : FoodCourt [NUMERICAL]\n",
            "\t295 : RoomService [NUMERICAL]\n",
            "\t245 : Cabin [CATEGORICAL]\n",
            "\t124 : HomePlanet [CATEGORICAL]\n",
            "\t96 : Destination [CATEGORICAL]\n",
            "\t46 : CryoSleep [NUMERICAL]\n",
            "\t5 : VIP [NUMERICAL]\n",
            "\n",
            "Condition type in nodes:\n",
            "\t3275 : HigherCondition\n",
            "\t644 : ContainsBitmapCondition\n",
            "\t10 : ContainsCondition\n",
            "Condition type in nodes with depth <= 0:\n",
            "\t110 : HigherCondition\n",
            "\t21 : ContainsBitmapCondition\n",
            "Condition type in nodes with depth <= 1:\n",
            "\t277 : HigherCondition\n",
            "\t88 : ContainsBitmapCondition\n",
            "Condition type in nodes with depth <= 2:\n",
            "\t552 : HigherCondition\n",
            "\t177 : ContainsBitmapCondition\n",
            "Condition type in nodes with depth <= 3:\n",
            "\t940 : HigherCondition\n",
            "\t279 : ContainsBitmapCondition\n",
            "Condition type in nodes with depth <= 5:\n",
            "\t2060 : HigherCondition\n",
            "\t462 : ContainsBitmapCondition\n",
            "\t3 : ContainsCondition\n",
            "\n",
            "Training logs:\n",
            "Number of iteration to final model: 131\n",
            "\tIter:1 train-loss:1.303806 valid-loss:1.306554  train-accuracy:0.792209 valid-accuracy:0.780997\n",
            "\tIter:2 train-loss:1.236360 valid-loss:1.240516  train-accuracy:0.793997 valid-accuracy:0.777520\n",
            "\tIter:3 train-loss:1.180473 valid-loss:1.185356  train-accuracy:0.799745 valid-accuracy:0.791425\n",
            "\tIter:4 train-loss:1.133152 valid-loss:1.139835  train-accuracy:0.800128 valid-accuracy:0.793743\n",
            "\tIter:5 train-loss:1.091413 valid-loss:1.098850  train-accuracy:0.801022 valid-accuracy:0.796060\n",
            "\tIter:6 train-loss:1.055709 valid-loss:1.064929  train-accuracy:0.803831 valid-accuracy:0.793743\n",
            "\tIter:16 train-loss:0.876081 valid-loss:0.901651  train-accuracy:0.815326 valid-accuracy:0.805330\n",
            "\tIter:26 train-loss:0.811853 valid-loss:0.857058  train-accuracy:0.820179 valid-accuracy:0.805330\n",
            "\tIter:36 train-loss:0.775175 valid-loss:0.847201  train-accuracy:0.830524 valid-accuracy:0.811124\n",
            "\tIter:46 train-loss:0.749136 valid-loss:0.846816  train-accuracy:0.835249 valid-accuracy:0.809965\n",
            "\tIter:56 train-loss:0.729715 valid-loss:0.843105  train-accuracy:0.839464 valid-accuracy:0.813441\n",
            "\tIter:66 train-loss:0.713665 valid-loss:0.842602  train-accuracy:0.844700 valid-accuracy:0.813441\n",
            "\tIter:76 train-loss:0.695098 valid-loss:0.840792  train-accuracy:0.850064 valid-accuracy:0.812283\n",
            "\tIter:86 train-loss:0.679331 valid-loss:0.838143  train-accuracy:0.852874 valid-accuracy:0.814600\n",
            "\tIter:96 train-loss:0.665044 valid-loss:0.838988  train-accuracy:0.855556 valid-accuracy:0.814600\n",
            "\tIter:106 train-loss:0.650015 valid-loss:0.836110  train-accuracy:0.859387 valid-accuracy:0.815759\n",
            "\tIter:116 train-loss:0.637078 valid-loss:0.835942  train-accuracy:0.863857 valid-accuracy:0.818076\n",
            "\tIter:126 train-loss:0.624472 valid-loss:0.834392  train-accuracy:0.867688 valid-accuracy:0.816918\n",
            "\tIter:136 train-loss:0.613099 valid-loss:0.835272  train-accuracy:0.870243 valid-accuracy:0.816918\n",
            "\tIter:146 train-loss:0.600121 valid-loss:0.835799  train-accuracy:0.873563 valid-accuracy:0.814600\n",
            "\tIter:156 train-loss:0.590858 valid-loss:0.837982  train-accuracy:0.875990 valid-accuracy:0.809965\n",
            "\n"
          ]
        }
      ]
    },
    {
      "cell_type": "markdown",
      "source": [
        "# Inspecting and Plotting the training logs"
      ],
      "metadata": {
        "id": "UWl4eLlNMwJG"
      }
    },
    {
      "cell_type": "code",
      "source": [
        "model_1.make_inspector().features()"
      ],
      "metadata": {
        "colab": {
          "base_uri": "https://localhost:8080/"
        },
        "id": "C2tH52jAIqu7",
        "outputId": "f6acfb29-56ef-4d2e-c6b9-62b38602047a"
      },
      "execution_count": 18,
      "outputs": [
        {
          "output_type": "execute_result",
          "data": {
            "text/plain": [
              "[\"Age\" (1; #0),\n",
              " \"Cabin\" (4; #1),\n",
              " \"CryoSleep\" (1; #2),\n",
              " \"Destination\" (4; #3),\n",
              " \"FoodCourt\" (1; #4),\n",
              " \"HomePlanet\" (4; #5),\n",
              " \"Name\" (4; #6),\n",
              " \"PassengerId\" (4; #7),\n",
              " \"RoomService\" (1; #8),\n",
              " \"ShoppingMall\" (1; #9),\n",
              " \"Spa\" (1; #10),\n",
              " \"VIP\" (1; #11),\n",
              " \"VRDeck\" (1; #12)]"
            ]
          },
          "metadata": {},
          "execution_count": 18
        }
      ]
    },
    {
      "cell_type": "code",
      "source": [
        "model_1.make_inspector().variable_importances()"
      ],
      "metadata": {
        "colab": {
          "base_uri": "https://localhost:8080/"
        },
        "id": "Q0lPClJPI-AD",
        "outputId": "034085b6-6f01-409b-b88f-ea28f0962a61"
      },
      "execution_count": 19,
      "outputs": [
        {
          "output_type": "execute_result",
          "data": {
            "text/plain": [
              "{'NUM_AS_ROOT': [(\"CryoSleep\" (1; #2), 35.0),\n",
              "  (\"RoomService\" (1; #8), 25.0),\n",
              "  (\"VRDeck\" (1; #12), 20.0),\n",
              "  (\"Cabin\" (4; #1), 15.0),\n",
              "  (\"ShoppingMall\" (1; #9), 11.0),\n",
              "  (\"Age\" (1; #0), 8.0),\n",
              "  (\"Spa\" (1; #10), 8.0),\n",
              "  (\"Destination\" (4; #3), 5.0),\n",
              "  (\"FoodCourt\" (1; #4), 3.0),\n",
              "  (\"HomePlanet\" (4; #5), 1.0)],\n",
              " 'NUM_NODES': [(\"Age\" (1; #0), 629.0),\n",
              "  (\"ShoppingMall\" (1; #9), 558.0),\n",
              "  (\"FoodCourt\" (1; #4), 529.0),\n",
              "  (\"Spa\" (1; #10), 520.0),\n",
              "  (\"VRDeck\" (1; #12), 520.0),\n",
              "  (\"RoomService\" (1; #8), 457.0),\n",
              "  (\"Cabin\" (4; #1), 341.0),\n",
              "  (\"HomePlanet\" (4; #5), 163.0),\n",
              "  (\"Destination\" (4; #3), 150.0),\n",
              "  (\"CryoSleep\" (1; #2), 51.0),\n",
              "  (\"VIP\" (1; #11), 11.0)],\n",
              " 'SUM_SCORE': [(\"CryoSleep\" (1; #2), 2227.6164088211863),\n",
              "  (\"VRDeck\" (1; #12), 772.1517207566576),\n",
              "  (\"Spa\" (1; #10), 726.3078200297155),\n",
              "  (\"FoodCourt\" (1; #4), 613.4545831843634),\n",
              "  (\"RoomService\" (1; #8), 503.8217052593127),\n",
              "  (\"HomePlanet\" (4; #5), 479.5019005956783),\n",
              "  (\"ShoppingMall\" (1; #9), 379.9864838698186),\n",
              "  (\"Age\" (1; #0), 347.18789689475216),\n",
              "  (\"Cabin\" (4; #1), 179.51460305834826),\n",
              "  (\"Destination\" (4; #3), 81.728926622779),\n",
              "  (\"VIP\" (1; #11), 3.2900658609869424)],\n",
              " 'MEAN_MIN_DEPTH': [(\"Name\" (4; #6), 6.2381268981367475),\n",
              "  (\"PassengerId\" (4; #7), 6.2381268981367475),\n",
              "  (\"__LABEL\" (4; #13), 6.2381268981367475),\n",
              "  (\"VIP\" (1; #11), 6.204145120249528),\n",
              "  (\"Destination\" (4; #3), 5.447188705573342),\n",
              "  (\"HomePlanet\" (4; #5), 5.0928260691126965),\n",
              "  (\"Cabin\" (4; #1), 4.985726011655586),\n",
              "  (\"ShoppingMall\" (1; #9), 4.605269638020191),\n",
              "  (\"CryoSleep\" (1; #2), 4.539284248543052),\n",
              "  (\"FoodCourt\" (1; #4), 4.4297956168431405),\n",
              "  (\"Age\" (1; #0), 4.227735368956745),\n",
              "  (\"Spa\" (1; #10), 4.2065911516046945),\n",
              "  (\"VRDeck\" (1; #12), 4.119798079290816),\n",
              "  (\"RoomService\" (1; #8), 4.096724944594928)]}"
            ]
          },
          "metadata": {},
          "execution_count": 19
        }
      ]
    },
    {
      "cell_type": "code",
      "source": [
        "model_1.make_inspector().training_logs()"
      ],
      "metadata": {
        "colab": {
          "base_uri": "https://localhost:8080/"
        },
        "id": "axrxJFXxJBLG",
        "outputId": "21a1f278-2595-417d-8390-da9c153b4f75"
      },
      "execution_count": 20,
      "outputs": [
        {
          "output_type": "execute_result",
          "data": {
            "text/plain": [
              "[TrainLog(num_trees=1, evaluation=Evaluation(num_examples=None, accuracy=0.7809965014457703, loss=1.3065544366836548, rmse=None, ndcg=None, aucs=None, auuc=None, qini=None)),\n",
              " TrainLog(num_trees=2, evaluation=Evaluation(num_examples=None, accuracy=0.7775202989578247, loss=1.2405157089233398, rmse=None, ndcg=None, aucs=None, auuc=None, qini=None)),\n",
              " TrainLog(num_trees=3, evaluation=Evaluation(num_examples=None, accuracy=0.7914252877235413, loss=1.1853562593460083, rmse=None, ndcg=None, aucs=None, auuc=None, qini=None)),\n",
              " TrainLog(num_trees=4, evaluation=Evaluation(num_examples=None, accuracy=0.7937427759170532, loss=1.1398353576660156, rmse=None, ndcg=None, aucs=None, auuc=None, qini=None)),\n",
              " TrainLog(num_trees=5, evaluation=Evaluation(num_examples=None, accuracy=0.7960602641105652, loss=1.0988496541976929, rmse=None, ndcg=None, aucs=None, auuc=None, qini=None)),\n",
              " TrainLog(num_trees=6, evaluation=Evaluation(num_examples=None, accuracy=0.7937427759170532, loss=1.0649293661117554, rmse=None, ndcg=None, aucs=None, auuc=None, qini=None)),\n",
              " TrainLog(num_trees=7, evaluation=Evaluation(num_examples=None, accuracy=0.7960602641105652, loss=1.0375726222991943, rmse=None, ndcg=None, aucs=None, auuc=None, qini=None)),\n",
              " TrainLog(num_trees=8, evaluation=Evaluation(num_examples=None, accuracy=0.8030127286911011, loss=1.0109854936599731, rmse=None, ndcg=None, aucs=None, auuc=None, qini=None)),\n",
              " TrainLog(num_trees=9, evaluation=Evaluation(num_examples=None, accuracy=0.8018540143966675, loss=0.9900702834129333, rmse=None, ndcg=None, aucs=None, auuc=None, qini=None)),\n",
              " TrainLog(num_trees=10, evaluation=Evaluation(num_examples=None, accuracy=0.8006952404975891, loss=0.9701299667358398, rmse=None, ndcg=None, aucs=None, auuc=None, qini=None)),\n",
              " TrainLog(num_trees=11, evaluation=Evaluation(num_examples=None, accuracy=0.7995365262031555, loss=0.9547021985054016, rmse=None, ndcg=None, aucs=None, auuc=None, qini=None)),\n",
              " TrainLog(num_trees=12, evaluation=Evaluation(num_examples=None, accuracy=0.8006952404975891, loss=0.9413812160491943, rmse=None, ndcg=None, aucs=None, auuc=None, qini=None)),\n",
              " TrainLog(num_trees=13, evaluation=Evaluation(num_examples=None, accuracy=0.8018540143966675, loss=0.9285156726837158, rmse=None, ndcg=None, aucs=None, auuc=None, qini=None)),\n",
              " TrainLog(num_trees=14, evaluation=Evaluation(num_examples=None, accuracy=0.8030127286911011, loss=0.9188491106033325, rmse=None, ndcg=None, aucs=None, auuc=None, qini=None)),\n",
              " TrainLog(num_trees=15, evaluation=Evaluation(num_examples=None, accuracy=0.8030127286911011, loss=0.909848153591156, rmse=None, ndcg=None, aucs=None, auuc=None, qini=None)),\n",
              " TrainLog(num_trees=16, evaluation=Evaluation(num_examples=None, accuracy=0.805330216884613, loss=0.9016505479812622, rmse=None, ndcg=None, aucs=None, auuc=None, qini=None)),\n",
              " TrainLog(num_trees=17, evaluation=Evaluation(num_examples=None, accuracy=0.805330216884613, loss=0.8952825665473938, rmse=None, ndcg=None, aucs=None, auuc=None, qini=None)),\n",
              " TrainLog(num_trees=18, evaluation=Evaluation(num_examples=None, accuracy=0.8064889907836914, loss=0.8873416781425476, rmse=None, ndcg=None, aucs=None, auuc=None, qini=None)),\n",
              " TrainLog(num_trees=19, evaluation=Evaluation(num_examples=None, accuracy=0.8064889907836914, loss=0.8796181082725525, rmse=None, ndcg=None, aucs=None, auuc=None, qini=None)),\n",
              " TrainLog(num_trees=20, evaluation=Evaluation(num_examples=None, accuracy=0.8099652528762817, loss=0.8758814334869385, rmse=None, ndcg=None, aucs=None, auuc=None, qini=None)),\n",
              " TrainLog(num_trees=21, evaluation=Evaluation(num_examples=None, accuracy=0.805330216884613, loss=0.8711310029029846, rmse=None, ndcg=None, aucs=None, auuc=None, qini=None)),\n",
              " TrainLog(num_trees=22, evaluation=Evaluation(num_examples=None, accuracy=0.8064889907836914, loss=0.868005633354187, rmse=None, ndcg=None, aucs=None, auuc=None, qini=None)),\n",
              " TrainLog(num_trees=23, evaluation=Evaluation(num_examples=None, accuracy=0.8064889907836914, loss=0.8638041615486145, rmse=None, ndcg=None, aucs=None, auuc=None, qini=None)),\n",
              " TrainLog(num_trees=24, evaluation=Evaluation(num_examples=None, accuracy=0.805330216884613, loss=0.8618020415306091, rmse=None, ndcg=None, aucs=None, auuc=None, qini=None)),\n",
              " TrainLog(num_trees=25, evaluation=Evaluation(num_examples=None, accuracy=0.805330216884613, loss=0.858361005783081, rmse=None, ndcg=None, aucs=None, auuc=None, qini=None)),\n",
              " TrainLog(num_trees=26, evaluation=Evaluation(num_examples=None, accuracy=0.805330216884613, loss=0.8570578098297119, rmse=None, ndcg=None, aucs=None, auuc=None, qini=None)),\n",
              " TrainLog(num_trees=27, evaluation=Evaluation(num_examples=None, accuracy=0.8111239671707153, loss=0.8547501564025879, rmse=None, ndcg=None, aucs=None, auuc=None, qini=None)),\n",
              " TrainLog(num_trees=28, evaluation=Evaluation(num_examples=None, accuracy=0.8088064789772034, loss=0.8538990616798401, rmse=None, ndcg=None, aucs=None, auuc=None, qini=None)),\n",
              " TrainLog(num_trees=29, evaluation=Evaluation(num_examples=None, accuracy=0.8088064789772034, loss=0.8529248237609863, rmse=None, ndcg=None, aucs=None, auuc=None, qini=None)),\n",
              " TrainLog(num_trees=30, evaluation=Evaluation(num_examples=None, accuracy=0.8099652528762817, loss=0.851872444152832, rmse=None, ndcg=None, aucs=None, auuc=None, qini=None)),\n",
              " TrainLog(num_trees=31, evaluation=Evaluation(num_examples=None, accuracy=0.805330216884613, loss=0.852170467376709, rmse=None, ndcg=None, aucs=None, auuc=None, qini=None)),\n",
              " TrainLog(num_trees=32, evaluation=Evaluation(num_examples=None, accuracy=0.8030127286911011, loss=0.8513379693031311, rmse=None, ndcg=None, aucs=None, auuc=None, qini=None)),\n",
              " TrainLog(num_trees=33, evaluation=Evaluation(num_examples=None, accuracy=0.8076477646827698, loss=0.8501789569854736, rmse=None, ndcg=None, aucs=None, auuc=None, qini=None)),\n",
              " TrainLog(num_trees=34, evaluation=Evaluation(num_examples=None, accuracy=0.8111239671707153, loss=0.8492417335510254, rmse=None, ndcg=None, aucs=None, auuc=None, qini=None)),\n",
              " TrainLog(num_trees=35, evaluation=Evaluation(num_examples=None, accuracy=0.8099652528762817, loss=0.8482699990272522, rmse=None, ndcg=None, aucs=None, auuc=None, qini=None)),\n",
              " TrainLog(num_trees=36, evaluation=Evaluation(num_examples=None, accuracy=0.8111239671707153, loss=0.847200870513916, rmse=None, ndcg=None, aucs=None, auuc=None, qini=None)),\n",
              " TrainLog(num_trees=37, evaluation=Evaluation(num_examples=None, accuracy=0.8111239671707153, loss=0.8469452857971191, rmse=None, ndcg=None, aucs=None, auuc=None, qini=None)),\n",
              " TrainLog(num_trees=38, evaluation=Evaluation(num_examples=None, accuracy=0.8088064789772034, loss=0.8477346897125244, rmse=None, ndcg=None, aucs=None, auuc=None, qini=None)),\n",
              " TrainLog(num_trees=39, evaluation=Evaluation(num_examples=None, accuracy=0.8088064789772034, loss=0.8471162915229797, rmse=None, ndcg=None, aucs=None, auuc=None, qini=None)),\n",
              " TrainLog(num_trees=40, evaluation=Evaluation(num_examples=None, accuracy=0.8088064789772034, loss=0.8475440740585327, rmse=None, ndcg=None, aucs=None, auuc=None, qini=None)),\n",
              " TrainLog(num_trees=41, evaluation=Evaluation(num_examples=None, accuracy=0.8088064789772034, loss=0.8466368317604065, rmse=None, ndcg=None, aucs=None, auuc=None, qini=None)),\n",
              " TrainLog(num_trees=42, evaluation=Evaluation(num_examples=None, accuracy=0.8076477646827698, loss=0.8465546369552612, rmse=None, ndcg=None, aucs=None, auuc=None, qini=None)),\n",
              " TrainLog(num_trees=43, evaluation=Evaluation(num_examples=None, accuracy=0.8076477646827698, loss=0.8460951447486877, rmse=None, ndcg=None, aucs=None, auuc=None, qini=None)),\n",
              " TrainLog(num_trees=44, evaluation=Evaluation(num_examples=None, accuracy=0.8076477646827698, loss=0.8470058441162109, rmse=None, ndcg=None, aucs=None, auuc=None, qini=None)),\n",
              " TrainLog(num_trees=45, evaluation=Evaluation(num_examples=None, accuracy=0.8088064789772034, loss=0.847332239151001, rmse=None, ndcg=None, aucs=None, auuc=None, qini=None)),\n",
              " TrainLog(num_trees=46, evaluation=Evaluation(num_examples=None, accuracy=0.8099652528762817, loss=0.8468155860900879, rmse=None, ndcg=None, aucs=None, auuc=None, qini=None)),\n",
              " TrainLog(num_trees=47, evaluation=Evaluation(num_examples=None, accuracy=0.8088064789772034, loss=0.8474547266960144, rmse=None, ndcg=None, aucs=None, auuc=None, qini=None)),\n",
              " TrainLog(num_trees=48, evaluation=Evaluation(num_examples=None, accuracy=0.8088064789772034, loss=0.8469648361206055, rmse=None, ndcg=None, aucs=None, auuc=None, qini=None)),\n",
              " TrainLog(num_trees=49, evaluation=Evaluation(num_examples=None, accuracy=0.8099652528762817, loss=0.8450036644935608, rmse=None, ndcg=None, aucs=None, auuc=None, qini=None)),\n",
              " TrainLog(num_trees=50, evaluation=Evaluation(num_examples=None, accuracy=0.8099652528762817, loss=0.844963788986206, rmse=None, ndcg=None, aucs=None, auuc=None, qini=None)),\n",
              " TrainLog(num_trees=51, evaluation=Evaluation(num_examples=None, accuracy=0.8099652528762817, loss=0.8442376255989075, rmse=None, ndcg=None, aucs=None, auuc=None, qini=None)),\n",
              " TrainLog(num_trees=52, evaluation=Evaluation(num_examples=None, accuracy=0.8111239671707153, loss=0.8438834547996521, rmse=None, ndcg=None, aucs=None, auuc=None, qini=None)),\n",
              " TrainLog(num_trees=53, evaluation=Evaluation(num_examples=None, accuracy=0.8111239671707153, loss=0.8438332080841064, rmse=None, ndcg=None, aucs=None, auuc=None, qini=None)),\n",
              " TrainLog(num_trees=54, evaluation=Evaluation(num_examples=None, accuracy=0.8111239671707153, loss=0.8436203598976135, rmse=None, ndcg=None, aucs=None, auuc=None, qini=None)),\n",
              " TrainLog(num_trees=55, evaluation=Evaluation(num_examples=None, accuracy=0.8134414553642273, loss=0.8430550694465637, rmse=None, ndcg=None, aucs=None, auuc=None, qini=None)),\n",
              " TrainLog(num_trees=56, evaluation=Evaluation(num_examples=None, accuracy=0.8134414553642273, loss=0.8431054353713989, rmse=None, ndcg=None, aucs=None, auuc=None, qini=None)),\n",
              " TrainLog(num_trees=57, evaluation=Evaluation(num_examples=None, accuracy=0.8122827410697937, loss=0.8431129455566406, rmse=None, ndcg=None, aucs=None, auuc=None, qini=None)),\n",
              " TrainLog(num_trees=58, evaluation=Evaluation(num_examples=None, accuracy=0.8146002292633057, loss=0.8428158164024353, rmse=None, ndcg=None, aucs=None, auuc=None, qini=None)),\n",
              " TrainLog(num_trees=59, evaluation=Evaluation(num_examples=None, accuracy=0.8146002292633057, loss=0.8422361612319946, rmse=None, ndcg=None, aucs=None, auuc=None, qini=None)),\n",
              " TrainLog(num_trees=60, evaluation=Evaluation(num_examples=None, accuracy=0.8146002292633057, loss=0.8421555757522583, rmse=None, ndcg=None, aucs=None, auuc=None, qini=None)),\n",
              " TrainLog(num_trees=61, evaluation=Evaluation(num_examples=None, accuracy=0.8146002292633057, loss=0.8430198431015015, rmse=None, ndcg=None, aucs=None, auuc=None, qini=None)),\n",
              " TrainLog(num_trees=62, evaluation=Evaluation(num_examples=None, accuracy=0.8146002292633057, loss=0.8433685898780823, rmse=None, ndcg=None, aucs=None, auuc=None, qini=None)),\n",
              " TrainLog(num_trees=63, evaluation=Evaluation(num_examples=None, accuracy=0.8134414553642273, loss=0.8430938124656677, rmse=None, ndcg=None, aucs=None, auuc=None, qini=None)),\n",
              " TrainLog(num_trees=64, evaluation=Evaluation(num_examples=None, accuracy=0.8134414553642273, loss=0.8429070115089417, rmse=None, ndcg=None, aucs=None, auuc=None, qini=None)),\n",
              " TrainLog(num_trees=65, evaluation=Evaluation(num_examples=None, accuracy=0.8134414553642273, loss=0.8424186706542969, rmse=None, ndcg=None, aucs=None, auuc=None, qini=None)),\n",
              " TrainLog(num_trees=66, evaluation=Evaluation(num_examples=None, accuracy=0.8134414553642273, loss=0.8426020741462708, rmse=None, ndcg=None, aucs=None, auuc=None, qini=None)),\n",
              " TrainLog(num_trees=67, evaluation=Evaluation(num_examples=None, accuracy=0.8134414553642273, loss=0.8424273729324341, rmse=None, ndcg=None, aucs=None, auuc=None, qini=None)),\n",
              " TrainLog(num_trees=68, evaluation=Evaluation(num_examples=None, accuracy=0.8134414553642273, loss=0.8430631160736084, rmse=None, ndcg=None, aucs=None, auuc=None, qini=None)),\n",
              " TrainLog(num_trees=69, evaluation=Evaluation(num_examples=None, accuracy=0.8134414553642273, loss=0.8436589241027832, rmse=None, ndcg=None, aucs=None, auuc=None, qini=None)),\n",
              " TrainLog(num_trees=70, evaluation=Evaluation(num_examples=None, accuracy=0.8134414553642273, loss=0.841775119304657, rmse=None, ndcg=None, aucs=None, auuc=None, qini=None)),\n",
              " TrainLog(num_trees=71, evaluation=Evaluation(num_examples=None, accuracy=0.8146002292633057, loss=0.8413358330726624, rmse=None, ndcg=None, aucs=None, auuc=None, qini=None)),\n",
              " TrainLog(num_trees=72, evaluation=Evaluation(num_examples=None, accuracy=0.8134414553642273, loss=0.841579020023346, rmse=None, ndcg=None, aucs=None, auuc=None, qini=None)),\n",
              " TrainLog(num_trees=73, evaluation=Evaluation(num_examples=None, accuracy=0.8134414553642273, loss=0.8424020409584045, rmse=None, ndcg=None, aucs=None, auuc=None, qini=None)),\n",
              " TrainLog(num_trees=74, evaluation=Evaluation(num_examples=None, accuracy=0.8134414553642273, loss=0.841918408870697, rmse=None, ndcg=None, aucs=None, auuc=None, qini=None)),\n",
              " TrainLog(num_trees=75, evaluation=Evaluation(num_examples=None, accuracy=0.8134414553642273, loss=0.8414214849472046, rmse=None, ndcg=None, aucs=None, auuc=None, qini=None)),\n",
              " TrainLog(num_trees=76, evaluation=Evaluation(num_examples=None, accuracy=0.8122827410697937, loss=0.8407922983169556, rmse=None, ndcg=None, aucs=None, auuc=None, qini=None)),\n",
              " TrainLog(num_trees=77, evaluation=Evaluation(num_examples=None, accuracy=0.8122827410697937, loss=0.8407554626464844, rmse=None, ndcg=None, aucs=None, auuc=None, qini=None)),\n",
              " TrainLog(num_trees=78, evaluation=Evaluation(num_examples=None, accuracy=0.8122827410697937, loss=0.8406420350074768, rmse=None, ndcg=None, aucs=None, auuc=None, qini=None)),\n",
              " TrainLog(num_trees=79, evaluation=Evaluation(num_examples=None, accuracy=0.8111239671707153, loss=0.8401341438293457, rmse=None, ndcg=None, aucs=None, auuc=None, qini=None)),\n",
              " TrainLog(num_trees=80, evaluation=Evaluation(num_examples=None, accuracy=0.8122827410697937, loss=0.8397036790847778, rmse=None, ndcg=None, aucs=None, auuc=None, qini=None)),\n",
              " TrainLog(num_trees=81, evaluation=Evaluation(num_examples=None, accuracy=0.8134414553642273, loss=0.8405654430389404, rmse=None, ndcg=None, aucs=None, auuc=None, qini=None)),\n",
              " TrainLog(num_trees=82, evaluation=Evaluation(num_examples=None, accuracy=0.8134414553642273, loss=0.8404462337493896, rmse=None, ndcg=None, aucs=None, auuc=None, qini=None)),\n",
              " TrainLog(num_trees=83, evaluation=Evaluation(num_examples=None, accuracy=0.8134414553642273, loss=0.840511679649353, rmse=None, ndcg=None, aucs=None, auuc=None, qini=None)),\n",
              " TrainLog(num_trees=84, evaluation=Evaluation(num_examples=None, accuracy=0.8146002292633057, loss=0.838981568813324, rmse=None, ndcg=None, aucs=None, auuc=None, qini=None)),\n",
              " TrainLog(num_trees=85, evaluation=Evaluation(num_examples=None, accuracy=0.8146002292633057, loss=0.8386225700378418, rmse=None, ndcg=None, aucs=None, auuc=None, qini=None)),\n",
              " TrainLog(num_trees=86, evaluation=Evaluation(num_examples=None, accuracy=0.8146002292633057, loss=0.8381431698799133, rmse=None, ndcg=None, aucs=None, auuc=None, qini=None)),\n",
              " TrainLog(num_trees=87, evaluation=Evaluation(num_examples=None, accuracy=0.815759003162384, loss=0.838362455368042, rmse=None, ndcg=None, aucs=None, auuc=None, qini=None)),\n",
              " TrainLog(num_trees=88, evaluation=Evaluation(num_examples=None, accuracy=0.815759003162384, loss=0.8375771641731262, rmse=None, ndcg=None, aucs=None, auuc=None, qini=None)),\n",
              " TrainLog(num_trees=89, evaluation=Evaluation(num_examples=None, accuracy=0.815759003162384, loss=0.8377200961112976, rmse=None, ndcg=None, aucs=None, auuc=None, qini=None)),\n",
              " TrainLog(num_trees=90, evaluation=Evaluation(num_examples=None, accuracy=0.815759003162384, loss=0.8373503684997559, rmse=None, ndcg=None, aucs=None, auuc=None, qini=None)),\n",
              " TrainLog(num_trees=91, evaluation=Evaluation(num_examples=None, accuracy=0.815759003162384, loss=0.8374879360198975, rmse=None, ndcg=None, aucs=None, auuc=None, qini=None)),\n",
              " TrainLog(num_trees=92, evaluation=Evaluation(num_examples=None, accuracy=0.815759003162384, loss=0.8385584950447083, rmse=None, ndcg=None, aucs=None, auuc=None, qini=None)),\n",
              " TrainLog(num_trees=93, evaluation=Evaluation(num_examples=None, accuracy=0.815759003162384, loss=0.838535726070404, rmse=None, ndcg=None, aucs=None, auuc=None, qini=None)),\n",
              " TrainLog(num_trees=94, evaluation=Evaluation(num_examples=None, accuracy=0.8146002292633057, loss=0.8393148183822632, rmse=None, ndcg=None, aucs=None, auuc=None, qini=None)),\n",
              " TrainLog(num_trees=95, evaluation=Evaluation(num_examples=None, accuracy=0.8146002292633057, loss=0.8386964797973633, rmse=None, ndcg=None, aucs=None, auuc=None, qini=None)),\n",
              " TrainLog(num_trees=96, evaluation=Evaluation(num_examples=None, accuracy=0.8146002292633057, loss=0.8389884233474731, rmse=None, ndcg=None, aucs=None, auuc=None, qini=None)),\n",
              " TrainLog(num_trees=97, evaluation=Evaluation(num_examples=None, accuracy=0.8146002292633057, loss=0.8383159041404724, rmse=None, ndcg=None, aucs=None, auuc=None, qini=None)),\n",
              " TrainLog(num_trees=98, evaluation=Evaluation(num_examples=None, accuracy=0.8146002292633057, loss=0.8377608060836792, rmse=None, ndcg=None, aucs=None, auuc=None, qini=None)),\n",
              " TrainLog(num_trees=99, evaluation=Evaluation(num_examples=None, accuracy=0.8134414553642273, loss=0.8378636837005615, rmse=None, ndcg=None, aucs=None, auuc=None, qini=None)),\n",
              " TrainLog(num_trees=100, evaluation=Evaluation(num_examples=None, accuracy=0.8122827410697937, loss=0.8378118276596069, rmse=None, ndcg=None, aucs=None, auuc=None, qini=None)),\n",
              " TrainLog(num_trees=101, evaluation=Evaluation(num_examples=None, accuracy=0.8122827410697937, loss=0.8379184603691101, rmse=None, ndcg=None, aucs=None, auuc=None, qini=None)),\n",
              " TrainLog(num_trees=102, evaluation=Evaluation(num_examples=None, accuracy=0.8146002292633057, loss=0.8379129767417908, rmse=None, ndcg=None, aucs=None, auuc=None, qini=None)),\n",
              " TrainLog(num_trees=103, evaluation=Evaluation(num_examples=None, accuracy=0.8146002292633057, loss=0.8378568291664124, rmse=None, ndcg=None, aucs=None, auuc=None, qini=None)),\n",
              " TrainLog(num_trees=104, evaluation=Evaluation(num_examples=None, accuracy=0.8146002292633057, loss=0.8382086157798767, rmse=None, ndcg=None, aucs=None, auuc=None, qini=None)),\n",
              " TrainLog(num_trees=105, evaluation=Evaluation(num_examples=None, accuracy=0.815759003162384, loss=0.8371018767356873, rmse=None, ndcg=None, aucs=None, auuc=None, qini=None)),\n",
              " TrainLog(num_trees=106, evaluation=Evaluation(num_examples=None, accuracy=0.815759003162384, loss=0.8361101150512695, rmse=None, ndcg=None, aucs=None, auuc=None, qini=None)),\n",
              " TrainLog(num_trees=107, evaluation=Evaluation(num_examples=None, accuracy=0.8146002292633057, loss=0.8364921808242798, rmse=None, ndcg=None, aucs=None, auuc=None, qini=None)),\n",
              " TrainLog(num_trees=108, evaluation=Evaluation(num_examples=None, accuracy=0.8169177174568176, loss=0.8362613916397095, rmse=None, ndcg=None, aucs=None, auuc=None, qini=None)),\n",
              " TrainLog(num_trees=109, evaluation=Evaluation(num_examples=None, accuracy=0.818076491355896, loss=0.8362226486206055, rmse=None, ndcg=None, aucs=None, auuc=None, qini=None)),\n",
              " TrainLog(num_trees=110, evaluation=Evaluation(num_examples=None, accuracy=0.818076491355896, loss=0.8352113366127014, rmse=None, ndcg=None, aucs=None, auuc=None, qini=None)),\n",
              " TrainLog(num_trees=111, evaluation=Evaluation(num_examples=None, accuracy=0.818076491355896, loss=0.8351404666900635, rmse=None, ndcg=None, aucs=None, auuc=None, qini=None)),\n",
              " TrainLog(num_trees=112, evaluation=Evaluation(num_examples=None, accuracy=0.8192352056503296, loss=0.8350414633750916, rmse=None, ndcg=None, aucs=None, auuc=None, qini=None)),\n",
              " TrainLog(num_trees=113, evaluation=Evaluation(num_examples=None, accuracy=0.818076491355896, loss=0.8358608484268188, rmse=None, ndcg=None, aucs=None, auuc=None, qini=None)),\n",
              " TrainLog(num_trees=114, evaluation=Evaluation(num_examples=None, accuracy=0.818076491355896, loss=0.8359974026679993, rmse=None, ndcg=None, aucs=None, auuc=None, qini=None)),\n",
              " TrainLog(num_trees=115, evaluation=Evaluation(num_examples=None, accuracy=0.818076491355896, loss=0.8359429240226746, rmse=None, ndcg=None, aucs=None, auuc=None, qini=None)),\n",
              " TrainLog(num_trees=116, evaluation=Evaluation(num_examples=None, accuracy=0.818076491355896, loss=0.8359416127204895, rmse=None, ndcg=None, aucs=None, auuc=None, qini=None)),\n",
              " TrainLog(num_trees=117, evaluation=Evaluation(num_examples=None, accuracy=0.818076491355896, loss=0.8352567553520203, rmse=None, ndcg=None, aucs=None, auuc=None, qini=None)),\n",
              " TrainLog(num_trees=118, evaluation=Evaluation(num_examples=None, accuracy=0.8169177174568176, loss=0.8354476690292358, rmse=None, ndcg=None, aucs=None, auuc=None, qini=None)),\n",
              " TrainLog(num_trees=119, evaluation=Evaluation(num_examples=None, accuracy=0.8169177174568176, loss=0.836937665939331, rmse=None, ndcg=None, aucs=None, auuc=None, qini=None)),\n",
              " TrainLog(num_trees=120, evaluation=Evaluation(num_examples=None, accuracy=0.815759003162384, loss=0.8357542753219604, rmse=None, ndcg=None, aucs=None, auuc=None, qini=None)),\n",
              " TrainLog(num_trees=121, evaluation=Evaluation(num_examples=None, accuracy=0.815759003162384, loss=0.835637629032135, rmse=None, ndcg=None, aucs=None, auuc=None, qini=None)),\n",
              " TrainLog(num_trees=122, evaluation=Evaluation(num_examples=None, accuracy=0.815759003162384, loss=0.8347484469413757, rmse=None, ndcg=None, aucs=None, auuc=None, qini=None)),\n",
              " TrainLog(num_trees=123, evaluation=Evaluation(num_examples=None, accuracy=0.815759003162384, loss=0.8343718647956848, rmse=None, ndcg=None, aucs=None, auuc=None, qini=None)),\n",
              " TrainLog(num_trees=124, evaluation=Evaluation(num_examples=None, accuracy=0.815759003162384, loss=0.8349047899246216, rmse=None, ndcg=None, aucs=None, auuc=None, qini=None)),\n",
              " TrainLog(num_trees=125, evaluation=Evaluation(num_examples=None, accuracy=0.8169177174568176, loss=0.8346756100654602, rmse=None, ndcg=None, aucs=None, auuc=None, qini=None)),\n",
              " TrainLog(num_trees=126, evaluation=Evaluation(num_examples=None, accuracy=0.8169177174568176, loss=0.8343916535377502, rmse=None, ndcg=None, aucs=None, auuc=None, qini=None)),\n",
              " TrainLog(num_trees=127, evaluation=Evaluation(num_examples=None, accuracy=0.815759003162384, loss=0.8342104554176331, rmse=None, ndcg=None, aucs=None, auuc=None, qini=None)),\n",
              " TrainLog(num_trees=128, evaluation=Evaluation(num_examples=None, accuracy=0.8169177174568176, loss=0.8332841992378235, rmse=None, ndcg=None, aucs=None, auuc=None, qini=None)),\n",
              " TrainLog(num_trees=129, evaluation=Evaluation(num_examples=None, accuracy=0.8169177174568176, loss=0.832726001739502, rmse=None, ndcg=None, aucs=None, auuc=None, qini=None)),\n",
              " TrainLog(num_trees=130, evaluation=Evaluation(num_examples=None, accuracy=0.8169177174568176, loss=0.8330039978027344, rmse=None, ndcg=None, aucs=None, auuc=None, qini=None)),\n",
              " TrainLog(num_trees=131, evaluation=Evaluation(num_examples=None, accuracy=0.8169177174568176, loss=0.8326012492179871, rmse=None, ndcg=None, aucs=None, auuc=None, qini=None)),\n",
              " TrainLog(num_trees=132, evaluation=Evaluation(num_examples=None, accuracy=0.8169177174568176, loss=0.8343625068664551, rmse=None, ndcg=None, aucs=None, auuc=None, qini=None)),\n",
              " TrainLog(num_trees=133, evaluation=Evaluation(num_examples=None, accuracy=0.8169177174568176, loss=0.8347025513648987, rmse=None, ndcg=None, aucs=None, auuc=None, qini=None)),\n",
              " TrainLog(num_trees=134, evaluation=Evaluation(num_examples=None, accuracy=0.8169177174568176, loss=0.8348477482795715, rmse=None, ndcg=None, aucs=None, auuc=None, qini=None)),\n",
              " TrainLog(num_trees=135, evaluation=Evaluation(num_examples=None, accuracy=0.8169177174568176, loss=0.834513783454895, rmse=None, ndcg=None, aucs=None, auuc=None, qini=None)),\n",
              " TrainLog(num_trees=136, evaluation=Evaluation(num_examples=None, accuracy=0.8169177174568176, loss=0.8352718353271484, rmse=None, ndcg=None, aucs=None, auuc=None, qini=None)),\n",
              " TrainLog(num_trees=137, evaluation=Evaluation(num_examples=None, accuracy=0.818076491355896, loss=0.8357874751091003, rmse=None, ndcg=None, aucs=None, auuc=None, qini=None)),\n",
              " TrainLog(num_trees=138, evaluation=Evaluation(num_examples=None, accuracy=0.818076491355896, loss=0.836177408695221, rmse=None, ndcg=None, aucs=None, auuc=None, qini=None)),\n",
              " TrainLog(num_trees=139, evaluation=Evaluation(num_examples=None, accuracy=0.8146002292633057, loss=0.8365947008132935, rmse=None, ndcg=None, aucs=None, auuc=None, qini=None)),\n",
              " TrainLog(num_trees=140, evaluation=Evaluation(num_examples=None, accuracy=0.8146002292633057, loss=0.8368189930915833, rmse=None, ndcg=None, aucs=None, auuc=None, qini=None)),\n",
              " TrainLog(num_trees=141, evaluation=Evaluation(num_examples=None, accuracy=0.815759003162384, loss=0.8360005021095276, rmse=None, ndcg=None, aucs=None, auuc=None, qini=None)),\n",
              " TrainLog(num_trees=142, evaluation=Evaluation(num_examples=None, accuracy=0.815759003162384, loss=0.8359495401382446, rmse=None, ndcg=None, aucs=None, auuc=None, qini=None)),\n",
              " TrainLog(num_trees=143, evaluation=Evaluation(num_examples=None, accuracy=0.8146002292633057, loss=0.8363111019134521, rmse=None, ndcg=None, aucs=None, auuc=None, qini=None)),\n",
              " TrainLog(num_trees=144, evaluation=Evaluation(num_examples=None, accuracy=0.8146002292633057, loss=0.8360373377799988, rmse=None, ndcg=None, aucs=None, auuc=None, qini=None)),\n",
              " TrainLog(num_trees=145, evaluation=Evaluation(num_examples=None, accuracy=0.8146002292633057, loss=0.8362199068069458, rmse=None, ndcg=None, aucs=None, auuc=None, qini=None)),\n",
              " TrainLog(num_trees=146, evaluation=Evaluation(num_examples=None, accuracy=0.8146002292633057, loss=0.8357990384101868, rmse=None, ndcg=None, aucs=None, auuc=None, qini=None)),\n",
              " TrainLog(num_trees=147, evaluation=Evaluation(num_examples=None, accuracy=0.8146002292633057, loss=0.8366986513137817, rmse=None, ndcg=None, aucs=None, auuc=None, qini=None)),\n",
              " TrainLog(num_trees=148, evaluation=Evaluation(num_examples=None, accuracy=0.8122827410697937, loss=0.836904764175415, rmse=None, ndcg=None, aucs=None, auuc=None, qini=None)),\n",
              " TrainLog(num_trees=149, evaluation=Evaluation(num_examples=None, accuracy=0.8122827410697937, loss=0.8371460437774658, rmse=None, ndcg=None, aucs=None, auuc=None, qini=None)),\n",
              " TrainLog(num_trees=150, evaluation=Evaluation(num_examples=None, accuracy=0.8122827410697937, loss=0.8367670774459839, rmse=None, ndcg=None, aucs=None, auuc=None, qini=None)),\n",
              " TrainLog(num_trees=151, evaluation=Evaluation(num_examples=None, accuracy=0.8088064789772034, loss=0.837579071521759, rmse=None, ndcg=None, aucs=None, auuc=None, qini=None)),\n",
              " TrainLog(num_trees=152, evaluation=Evaluation(num_examples=None, accuracy=0.8088064789772034, loss=0.8381474614143372, rmse=None, ndcg=None, aucs=None, auuc=None, qini=None)),\n",
              " TrainLog(num_trees=153, evaluation=Evaluation(num_examples=None, accuracy=0.8088064789772034, loss=0.8385190367698669, rmse=None, ndcg=None, aucs=None, auuc=None, qini=None)),\n",
              " TrainLog(num_trees=154, evaluation=Evaluation(num_examples=None, accuracy=0.8088064789772034, loss=0.8386369347572327, rmse=None, ndcg=None, aucs=None, auuc=None, qini=None)),\n",
              " TrainLog(num_trees=155, evaluation=Evaluation(num_examples=None, accuracy=0.8099652528762817, loss=0.837859034538269, rmse=None, ndcg=None, aucs=None, auuc=None, qini=None)),\n",
              " TrainLog(num_trees=156, evaluation=Evaluation(num_examples=None, accuracy=0.8099652528762817, loss=0.8379824161529541, rmse=None, ndcg=None, aucs=None, auuc=None, qini=None)),\n",
              " TrainLog(num_trees=157, evaluation=Evaluation(num_examples=None, accuracy=0.8088064789772034, loss=0.8380697965621948, rmse=None, ndcg=None, aucs=None, auuc=None, qini=None)),\n",
              " TrainLog(num_trees=158, evaluation=Evaluation(num_examples=None, accuracy=0.8099652528762817, loss=0.83795166015625, rmse=None, ndcg=None, aucs=None, auuc=None, qini=None)),\n",
              " TrainLog(num_trees=159, evaluation=Evaluation(num_examples=None, accuracy=0.8099652528762817, loss=0.8389357924461365, rmse=None, ndcg=None, aucs=None, auuc=None, qini=None)),\n",
              " TrainLog(num_trees=160, evaluation=Evaluation(num_examples=None, accuracy=0.8111239671707153, loss=0.8387123346328735, rmse=None, ndcg=None, aucs=None, auuc=None, qini=None)),\n",
              " TrainLog(num_trees=161, evaluation=Evaluation(num_examples=None, accuracy=0.8122827410697937, loss=0.8376764059066772, rmse=None, ndcg=None, aucs=None, auuc=None, qini=None))]"
            ]
          },
          "metadata": {},
          "execution_count": 20
        }
      ]
    },
    {
      "cell_type": "code",
      "source": [
        "import matplotlib.pyplot as plt\n",
        "\n",
        "logs = model_1.make_inspector().training_logs()\n",
        "\n",
        "plt.figure(figsize=(12, 4))\n",
        "\n",
        "plt.subplot(1, 2, 1)\n",
        "plt.plot([log.num_trees for log in logs], [log.evaluation.accuracy for log in logs])\n",
        "plt.xlabel(\"Number of trees\")\n",
        "plt.ylabel(\"Accuracy (out-of-bag)\")\n",
        "\n",
        "plt.subplot(1, 2, 2)\n",
        "plt.plot([log.num_trees for log in logs], [log.evaluation.loss for log in logs])\n",
        "plt.xlabel(\"Number of trees\")\n",
        "plt.ylabel(\"Logloss (out-of-bag)\")\n",
        "\n",
        "plt.show()"
      ],
      "metadata": {
        "colab": {
          "base_uri": "https://localhost:8080/",
          "height": 279
        },
        "id": "tvAdIoAJJE64",
        "outputId": "c94288de-0ec7-4c4c-bb0d-fb07af06b351"
      },
      "execution_count": 21,
      "outputs": [
        {
          "output_type": "display_data",
          "data": {
            "text/plain": [
              "<Figure size 864x288 with 2 Axes>"
            ],
            "image/png": "[encoded data removed]"
          },
          "metadata": {
            "needs_background": "light"
          }
        }
      ]
    },
    {
      "cell_type": "markdown",
      "source": [
        "# Submission"
      ],
      "metadata": {
        "id": "qzOLMlSBM2EQ"
      }
    },
    {
      "cell_type": "code",
      "source": [
        "updated_test = pd.read_csv('test.csv')\n",
        "updated_test[['VIP', 'CryoSleep']] = updated_test[['VIP', 'CryoSleep']].fillna(value=0)\n",
        "updated_test['VIP'] = updated_test['VIP'].astype(int)\n",
        "updated_test['CryoSleep'] = updated_test['CryoSleep'].astype(int)\n",
        "test = tfdf.keras.pd_dataframe_to_tf_dataset(updated_test)\n",
        "preds = model_1.predict(test)"
      ],
      "metadata": {
        "colab": {
          "base_uri": "https://localhost:8080/"
        },
        "id": "1HTaITnSJItp",
        "outputId": "f4642ea3-eebe-4476-cfdb-688b6ba58ef4"
      },
      "execution_count": 22,
      "outputs": [
        {
          "output_type": "stream",
          "name": "stdout",
          "text": [
            "5/5 [==============================] - 0s 12ms/step\n"
          ]
        }
      ]
    },
    {
      "cell_type": "code",
      "source": [
        "submission = pd.read_csv('sample_submission.csv')\n",
        "submission['Transported'] = preds"
      ],
      "metadata": {
        "id": "vgKOaTSDJL-v"
      },
      "execution_count": 23,
      "outputs": []
    },
    {
      "cell_type": "code",
      "source": [
        "preds"
      ],
      "metadata": {
        "colab": {
          "base_uri": "https://localhost:8080/"
        },
        "id": "fnLl8NY_QWxY",
        "outputId": "b626e512-691e-4f4b-f7ef-9b33c372d210"
      },
      "execution_count": 24,
      "outputs": [
        {
          "output_type": "execute_result",
          "data": {
            "text/plain": [
              "array([[0.6476921],\n",
              "       [0.0208168],\n",
              "       [0.9812617],\n",
              "       ...,\n",
              "       [0.9266602],\n",
              "       [0.7614914],\n",
              "       [0.5933805]], dtype=float32)"
            ]
          },
          "metadata": {},
          "execution_count": 24
        }
      ]
    },
    {
      "cell_type": "code",
      "source": [
        "def transformTo_bool(x):\n",
        "    if x < 0.4:\n",
        "        return False\n",
        "    else:\n",
        "        return True\n",
        "\n",
        "submission['Transported'] = submission['Transported'].apply(transformTo_bool)\n",
        "\n",
        "print(submission)"
      ],
      "metadata": {
        "colab": {
          "base_uri": "https://localhost:8080/"
        },
        "id": "DfxFTRREJUfL",
        "outputId": "442df1dc-4015-4cb7-a649-c89de9761f6d"
      },
      "execution_count": 25,
      "outputs": [
        {
          "output_type": "stream",
          "name": "stdout",
          "text": [
            "     PassengerId  Transported\n",
            "0        0013_01         True\n",
            "1        0018_01        False\n",
            "2        0019_01         True\n",
            "3        0021_01         True\n",
            "4        0023_01         True\n",
            "...          ...          ...\n",
            "4272     9266_02         True\n",
            "4273     9269_01        False\n",
            "4274     9271_01         True\n",
            "4275     9273_01         True\n",
            "4276     9277_01         True\n",
            "\n",
            "[4277 rows x 2 columns]\n"
          ]
        }
      ]
    },
    {
      "cell_type": "code",
      "source": [
        "sub = submission.to_csv('submission.csv', header=True, index=False)"
      ],
      "metadata": {
        "id": "r2r8RQNvJXgc"
      },
      "execution_count": 26,
      "outputs": []
    },
    {
      "cell_type": "code",
      "source": [
        "sub"
      ],
      "metadata": {
        "id": "aZUjqz30JaO2"
      },
      "execution_count": 27,
      "outputs": []
    },
    {
      "cell_type": "code",
      "source": [],
      "metadata": {
        "id": "3OoizbgEQdkz"
      },
      "execution_count": 27,
      "outputs": []
    }
  ]
}