{
 "cells": [
  {
   "cell_type": "code",
   "execution_count": 2,
   "id": "74c2eec4",
   "metadata": {},
   "outputs": [],
   "source": [
    "import pandas as pd\n",
    "import numpy as np"
   ]
  },
  {
   "cell_type": "code",
   "execution_count": 3,
   "id": "69dd41a7",
   "metadata": {
    "_cell_guid": "b1076dfc-b9ad-4769-8c92-a6c4dae69d19",
    "_uuid": "8f2839f25d086af736a60e9eeb907d3b93b6e0e5",
    "execution": {
     "iopub.execute_input": "2022-12-20T14:00:00.572866Z",
     "iopub.status.busy": "2022-12-20T14:00:00.572278Z",
     "iopub.status.idle": "2022-12-20T14:00:01.855789Z",
     "shell.execute_reply": "2022-12-20T14:00:01.854056Z"
    },
    "papermill": {
     "duration": 1.294691,
     "end_time": "2022-12-20T14:00:01.859079",
     "exception": false,
     "start_time": "2022-12-20T14:00:00.564388",
     "status": "completed"
    },
    "tags": []
   },
   "outputs": [],
   "source": [
    "# In this notebook A XGB Gradient Boosting Classifier model was used.\n",
    "\n",
    "\n",
    "# import pandas as pd\n",
    "# from sklearn.model_selection import train_test_split\n",
    "\n",
    "\n",
    "# Load the data, and separate the target\n",
    "spaceship_file_path = 'train.csv'\n",
    "spaceship_data = pd.read_csv(spaceship_file_path)\n",
    "\n",
    "#spaceship_data[\"Transported\"] = spaceship_data[\"Transported\"].astype(int)\n",
    "y = spaceship_data.Transported\n",
    "#y.astype('category')\n",
    "\n",
    "features = ['HomePlanet', 'CryoSleep','Destination','Age','VIP',\n",
    "            \"RoomService\",\"FoodCourt\",\"ShoppingMall\",\"Spa\",\"VRDeck\"]\n",
    "\n",
    "# Select columns corresponding to features, and preview the data\n",
    "X_train_full = spaceship_data[features]\n",
    "\n",
    "\n",
    "test_file_path = 'test.csv'\n",
    "test_data = pd.read_csv(test_file_path)"
   ]
  },
  {
   "cell_type": "code",
   "execution_count": 4,
   "id": "a73fa968",
   "metadata": {
    "execution": {
     "iopub.execute_input": "2022-12-20T14:00:01.870248Z",
     "iopub.status.busy": "2022-12-20T14:00:01.869852Z",
     "iopub.status.idle": "2022-12-20T14:00:01.899530Z",
     "shell.execute_reply": "2022-12-20T14:00:01.898213Z"
    },
    "papermill": {
     "duration": 0.038741,
     "end_time": "2022-12-20T14:00:01.902581",
     "exception": false,
     "start_time": "2022-12-20T14:00:01.863840",
     "status": "completed"
    },
    "tags": []
   },
   "outputs": [],
   "source": [
    "# preprocessing the categorical variables in both the train data and test data\n",
    "# get_dummies function is simpler and more straightforward than OneHotEncoding. \n",
    "# However, before using get_dummies, make sure the same number of variables\n",
    "# in X_test and X_train.  Otherwise,there will be inconsistency after using get_dummies\n",
    "\n",
    "\n",
    "\n",
    "X_train = pd.get_dummies(X_train_full[features])\n",
    "X_test = pd.get_dummies(test_data[features])"
   ]
  },
  {
   "cell_type": "code",
   "execution_count": 5,
   "id": "9d4599e4",
   "metadata": {
    "execution": {
     "iopub.execute_input": "2022-12-20T14:00:01.914404Z",
     "iopub.status.busy": "2022-12-20T14:00:01.912953Z",
     "iopub.status.idle": "2022-12-20T14:00:01.923235Z",
     "shell.execute_reply": "2022-12-20T14:00:01.922001Z"
    },
    "papermill": {
     "duration": 0.018641,
     "end_time": "2022-12-20T14:00:01.925696",
     "exception": false,
     "start_time": "2022-12-20T14:00:01.907055",
     "status": "completed"
    },
    "tags": []
   },
   "outputs": [
    {
     "data": {
      "text/plain": [
       "Index(['Age', 'RoomService', 'FoodCourt', 'ShoppingMall', 'Spa', 'VRDeck',\n",
       "       'HomePlanet_Earth', 'HomePlanet_Europa', 'HomePlanet_Mars',\n",
       "       'CryoSleep_False', 'CryoSleep_True', 'Destination_55 Cancri e',\n",
       "       'Destination_PSO J318.5-22', 'Destination_TRAPPIST-1e', 'VIP_False',\n",
       "       'VIP_True'],\n",
       "      dtype='object')"
      ]
     },
     "execution_count": 5,
     "metadata": {},
     "output_type": "execute_result"
    }
   ],
   "source": [
    "#X_train.shape\n",
    "X_train.columns\n"
   ]
  },
  {
   "cell_type": "code",
   "execution_count": 6,
   "id": "c47ee0ce",
   "metadata": {
    "execution": {
     "iopub.execute_input": "2022-12-20T14:00:01.937928Z",
     "iopub.status.busy": "2022-12-20T14:00:01.936208Z",
     "iopub.status.idle": "2022-12-20T14:00:01.945780Z",
     "shell.execute_reply": "2022-12-20T14:00:01.944445Z"
    },
    "papermill": {
     "duration": 0.018145,
     "end_time": "2022-12-20T14:00:01.948264",
     "exception": false,
     "start_time": "2022-12-20T14:00:01.930119",
     "status": "completed"
    },
    "tags": []
   },
   "outputs": [
    {
     "data": {
      "text/plain": [
       "Index(['Age', 'RoomService', 'FoodCourt', 'ShoppingMall', 'Spa', 'VRDeck',\n",
       "       'HomePlanet_Earth', 'HomePlanet_Europa', 'HomePlanet_Mars',\n",
       "       'CryoSleep_False', 'CryoSleep_True', 'Destination_55 Cancri e',\n",
       "       'Destination_PSO J318.5-22', 'Destination_TRAPPIST-1e', 'VIP_False',\n",
       "       'VIP_True'],\n",
       "      dtype='object')"
      ]
     },
     "execution_count": 6,
     "metadata": {},
     "output_type": "execute_result"
    }
   ],
   "source": [
    "#X_test.shape\n",
    "X_test.columns"
   ]
  },
  {
   "cell_type": "code",
   "execution_count": 7,
   "id": "c2628001",
   "metadata": {
    "execution": {
     "iopub.execute_input": "2022-12-20T14:00:01.959851Z",
     "iopub.status.busy": "2022-12-20T14:00:01.959294Z",
     "iopub.status.idle": "2022-12-20T14:00:02.142894Z",
     "shell.execute_reply": "2022-12-20T14:00:02.141297Z"
    },
    "papermill": {
     "duration": 0.193383,
     "end_time": "2022-12-20T14:00:02.146127",
     "exception": false,
     "start_time": "2022-12-20T14:00:01.952744",
     "status": "completed"
    },
    "tags": []
   },
   "outputs": [],
   "source": [
    "# There are missing numerical values in both X_train and X_test, impute them.\n",
    "\n",
    "from sklearn.impute import SimpleImputer\n",
    "\n",
    "#imputation : handling the missing values in the train data and test data\n",
    "#use X_train as fit_transform first, then X_test transform next. This will \n",
    "#enforce both data sets have the same number of columns!!\n",
    "my_imputer = SimpleImputer(strategy = 'median') # Your code here\n",
    "imputed_X_train = pd.DataFrame(my_imputer.fit_transform(X_train))\n",
    "imputed_X_test = pd.DataFrame(my_imputer.transform(X_test))\n",
    "\n",
    "# Fill in the lines below: imputation removed column names; put them back\n",
    "imputed_X_train.columns = X_train.columns\n",
    "imputed_X_test.columns = X_test.columns"
   ]
  },
  {
   "cell_type": "code",
   "execution_count": 8,
   "id": "6775fe73",
   "metadata": {
    "execution": {
     "iopub.execute_input": "2022-12-20T14:00:02.157825Z",
     "iopub.status.busy": "2022-12-20T14:00:02.157396Z",
     "iopub.status.idle": "2022-12-20T14:00:02.168796Z",
     "shell.execute_reply": "2022-12-20T14:00:02.167567Z"
    },
    "papermill": {
     "duration": 0.023014,
     "end_time": "2022-12-20T14:00:02.173787",
     "exception": false,
     "start_time": "2022-12-20T14:00:02.150773",
     "status": "completed"
    },
    "tags": []
   },
   "outputs": [
    {
     "data": {
      "text/plain": [
       "Age                          0\n",
       "RoomService                  0\n",
       "FoodCourt                    0\n",
       "ShoppingMall                 0\n",
       "Spa                          0\n",
       "VRDeck                       0\n",
       "HomePlanet_Earth             0\n",
       "HomePlanet_Europa            0\n",
       "HomePlanet_Mars              0\n",
       "CryoSleep_False              0\n",
       "CryoSleep_True               0\n",
       "Destination_55 Cancri e      0\n",
       "Destination_PSO J318.5-22    0\n",
       "Destination_TRAPPIST-1e      0\n",
       "VIP_False                    0\n",
       "VIP_True                     0\n",
       "dtype: int64"
      ]
     },
     "execution_count": 8,
     "metadata": {},
     "output_type": "execute_result"
    }
   ],
   "source": [
    "imputed_X_train.isnull().sum()"
   ]
  },
  {
   "cell_type": "code",
   "execution_count": 9,
   "id": "a8cac07e",
   "metadata": {
    "execution": {
     "iopub.execute_input": "2022-12-20T14:00:02.187156Z",
     "iopub.status.busy": "2022-12-20T14:00:02.186728Z",
     "iopub.status.idle": "2022-12-20T14:00:02.196934Z",
     "shell.execute_reply": "2022-12-20T14:00:02.195597Z"
    },
    "papermill": {
     "duration": 0.019843,
     "end_time": "2022-12-20T14:00:02.199690",
     "exception": false,
     "start_time": "2022-12-20T14:00:02.179847",
     "status": "completed"
    },
    "tags": []
   },
   "outputs": [
    {
     "data": {
      "text/plain": [
       "0       False\n",
       "1        True\n",
       "2       False\n",
       "3       False\n",
       "4        True\n",
       "        ...  \n",
       "8688    False\n",
       "8689    False\n",
       "8690     True\n",
       "8691    False\n",
       "8692     True\n",
       "Name: Transported, Length: 8693, dtype: bool"
      ]
     },
     "execution_count": 9,
     "metadata": {},
     "output_type": "execute_result"
    }
   ],
   "source": [
    "y"
   ]
  },
  {
   "cell_type": "code",
   "execution_count": 10,
   "id": "5f9e573b",
   "metadata": {
    "execution": {
     "iopub.execute_input": "2022-12-20T14:00:02.214220Z",
     "iopub.status.busy": "2022-12-20T14:00:02.213378Z",
     "iopub.status.idle": "2022-12-20T14:00:02.248376Z",
     "shell.execute_reply": "2022-12-20T14:00:02.246843Z"
    },
    "papermill": {
     "duration": 0.046699,
     "end_time": "2022-12-20T14:00:02.251749",
     "exception": false,
     "start_time": "2022-12-20T14:00:02.205050",
     "status": "completed"
    },
    "tags": []
   },
   "outputs": [
    {
     "data": {
      "text/html": [
       "<div>\n",
       "<style scoped>\n",
       "    .dataframe tbody tr th:only-of-type {\n",
       "        vertical-align: middle;\n",
       "    }\n",
       "\n",
       "    .dataframe tbody tr th {\n",
       "        vertical-align: top;\n",
       "    }\n",
       "\n",
       "    .dataframe thead th {\n",
       "        text-align: right;\n",
       "    }\n",
       "</style>\n",
       "<table border=\"1\" class=\"dataframe\">\n",
       "  <thead>\n",
       "    <tr style=\"text-align: right;\">\n",
       "      <th></th>\n",
       "      <th>Age</th>\n",
       "      <th>RoomService</th>\n",
       "      <th>FoodCourt</th>\n",
       "      <th>ShoppingMall</th>\n",
       "      <th>Spa</th>\n",
       "      <th>VRDeck</th>\n",
       "      <th>HomePlanet_Earth</th>\n",
       "      <th>HomePlanet_Europa</th>\n",
       "      <th>HomePlanet_Mars</th>\n",
       "      <th>CryoSleep_False</th>\n",
       "      <th>CryoSleep_True</th>\n",
       "      <th>Destination_55 Cancri e</th>\n",
       "      <th>Destination_PSO J318.5-22</th>\n",
       "      <th>Destination_TRAPPIST-1e</th>\n",
       "      <th>VIP_False</th>\n",
       "      <th>VIP_True</th>\n",
       "    </tr>\n",
       "  </thead>\n",
       "  <tbody>\n",
       "    <tr>\n",
       "      <th>0</th>\n",
       "      <td>27.0</td>\n",
       "      <td>0.0</td>\n",
       "      <td>0.0</td>\n",
       "      <td>0.0</td>\n",
       "      <td>0.0</td>\n",
       "      <td>0.0</td>\n",
       "      <td>1.0</td>\n",
       "      <td>0.0</td>\n",
       "      <td>0.0</td>\n",
       "      <td>0.0</td>\n",
       "      <td>1.0</td>\n",
       "      <td>0.0</td>\n",
       "      <td>0.0</td>\n",
       "      <td>1.0</td>\n",
       "      <td>1.0</td>\n",
       "      <td>0.0</td>\n",
       "    </tr>\n",
       "    <tr>\n",
       "      <th>1</th>\n",
       "      <td>19.0</td>\n",
       "      <td>0.0</td>\n",
       "      <td>9.0</td>\n",
       "      <td>0.0</td>\n",
       "      <td>2823.0</td>\n",
       "      <td>0.0</td>\n",
       "      <td>1.0</td>\n",
       "      <td>0.0</td>\n",
       "      <td>0.0</td>\n",
       "      <td>1.0</td>\n",
       "      <td>0.0</td>\n",
       "      <td>0.0</td>\n",
       "      <td>0.0</td>\n",
       "      <td>1.0</td>\n",
       "      <td>1.0</td>\n",
       "      <td>0.0</td>\n",
       "    </tr>\n",
       "    <tr>\n",
       "      <th>2</th>\n",
       "      <td>31.0</td>\n",
       "      <td>0.0</td>\n",
       "      <td>0.0</td>\n",
       "      <td>0.0</td>\n",
       "      <td>0.0</td>\n",
       "      <td>0.0</td>\n",
       "      <td>0.0</td>\n",
       "      <td>1.0</td>\n",
       "      <td>0.0</td>\n",
       "      <td>0.0</td>\n",
       "      <td>1.0</td>\n",
       "      <td>1.0</td>\n",
       "      <td>0.0</td>\n",
       "      <td>0.0</td>\n",
       "      <td>1.0</td>\n",
       "      <td>0.0</td>\n",
       "    </tr>\n",
       "    <tr>\n",
       "      <th>3</th>\n",
       "      <td>38.0</td>\n",
       "      <td>0.0</td>\n",
       "      <td>6652.0</td>\n",
       "      <td>0.0</td>\n",
       "      <td>181.0</td>\n",
       "      <td>585.0</td>\n",
       "      <td>0.0</td>\n",
       "      <td>1.0</td>\n",
       "      <td>0.0</td>\n",
       "      <td>1.0</td>\n",
       "      <td>0.0</td>\n",
       "      <td>0.0</td>\n",
       "      <td>0.0</td>\n",
       "      <td>1.0</td>\n",
       "      <td>1.0</td>\n",
       "      <td>0.0</td>\n",
       "    </tr>\n",
       "    <tr>\n",
       "      <th>4</th>\n",
       "      <td>20.0</td>\n",
       "      <td>10.0</td>\n",
       "      <td>0.0</td>\n",
       "      <td>635.0</td>\n",
       "      <td>0.0</td>\n",
       "      <td>0.0</td>\n",
       "      <td>1.0</td>\n",
       "      <td>0.0</td>\n",
       "      <td>0.0</td>\n",
       "      <td>1.0</td>\n",
       "      <td>0.0</td>\n",
       "      <td>0.0</td>\n",
       "      <td>0.0</td>\n",
       "      <td>1.0</td>\n",
       "      <td>1.0</td>\n",
       "      <td>0.0</td>\n",
       "    </tr>\n",
       "  </tbody>\n",
       "</table>\n",
       "</div>"
      ],
      "text/plain": [
       "    Age  RoomService  FoodCourt  ShoppingMall     Spa  VRDeck  \\\n",
       "0  27.0          0.0        0.0           0.0     0.0     0.0   \n",
       "1  19.0          0.0        9.0           0.0  2823.0     0.0   \n",
       "2  31.0          0.0        0.0           0.0     0.0     0.0   \n",
       "3  38.0          0.0     6652.0           0.0   181.0   585.0   \n",
       "4  20.0         10.0        0.0         635.0     0.0     0.0   \n",
       "\n",
       "   HomePlanet_Earth  HomePlanet_Europa  HomePlanet_Mars  CryoSleep_False  \\\n",
       "0               1.0                0.0              0.0              0.0   \n",
       "1               1.0                0.0              0.0              1.0   \n",
       "2               0.0                1.0              0.0              0.0   \n",
       "3               0.0                1.0              0.0              1.0   \n",
       "4               1.0                0.0              0.0              1.0   \n",
       "\n",
       "   CryoSleep_True  Destination_55 Cancri e  Destination_PSO J318.5-22  \\\n",
       "0             1.0                      0.0                        0.0   \n",
       "1             0.0                      0.0                        0.0   \n",
       "2             1.0                      1.0                        0.0   \n",
       "3             0.0                      0.0                        0.0   \n",
       "4             0.0                      0.0                        0.0   \n",
       "\n",
       "   Destination_TRAPPIST-1e  VIP_False  VIP_True  \n",
       "0                      1.0        1.0       0.0  \n",
       "1                      1.0        1.0       0.0  \n",
       "2                      0.0        1.0       0.0  \n",
       "3                      1.0        1.0       0.0  \n",
       "4                      1.0        1.0       0.0  "
      ]
     },
     "execution_count": 10,
     "metadata": {},
     "output_type": "execute_result"
    }
   ],
   "source": [
    "imputed_X_test.head()"
   ]
  },
  {
   "cell_type": "code",
   "execution_count": 11,
   "id": "84815ccf",
   "metadata": {
    "execution": {
     "iopub.execute_input": "2022-12-20T14:00:02.266754Z",
     "iopub.status.busy": "2022-12-20T14:00:02.266336Z",
     "iopub.status.idle": "2022-12-20T14:00:03.301818Z",
     "shell.execute_reply": "2022-12-20T14:00:03.300811Z"
    },
    "papermill": {
     "duration": 1.046068,
     "end_time": "2022-12-20T14:00:03.304724",
     "exception": false,
     "start_time": "2022-12-20T14:00:02.258656",
     "status": "completed"
    },
    "tags": []
   },
   "outputs": [
    {
     "data": {
      "text/plain": [
       "XGBClassifier(base_score=None, booster=None, callbacks=None,\n",
       "              colsample_bylevel=None, colsample_bynode=None,\n",
       "              colsample_bytree=None, early_stopping_rounds=None,\n",
       "              enable_categorical=False, eval_metric=None, feature_types=None,\n",
       "              gamma=None, gpu_id=None, grow_policy=None, importance_type=None,\n",
       "              interaction_constraints=None, learning_rate=None, max_bin=None,\n",
       "              max_cat_threshold=None, max_cat_to_onehot=None,\n",
       "              max_delta_step=None, max_depth=None, max_leaves=None,\n",
       "              min_child_weight=None, missing=nan, monotone_constraints=None,\n",
       "              n_estimators=100, n_jobs=None, num_parallel_tree=None,\n",
       "              predictor=None, random_state=None, ...)"
      ]
     },
     "execution_count": 11,
     "metadata": {},
     "output_type": "execute_result"
    }
   ],
   "source": [
    "from xgboost import XGBClassifier\n",
    "\n",
    "my_model = XGBClassifier()\n",
    "my_model.fit(imputed_X_train,y)"
   ]
  },
  {
   "cell_type": "code",
   "execution_count": 12,
   "id": "1901ef5a",
   "metadata": {},
   "outputs": [
    {
     "data": {
      "text/plain": [
       "0       False\n",
       "1        True\n",
       "2       False\n",
       "3       False\n",
       "4        True\n",
       "        ...  \n",
       "8688    False\n",
       "8689    False\n",
       "8690     True\n",
       "8691    False\n",
       "8692     True\n",
       "Name: Transported, Length: 8693, dtype: bool"
      ]
     },
     "execution_count": 12,
     "metadata": {},
     "output_type": "execute_result"
    }
   ],
   "source": [
    "y"
   ]
  },
  {
   "cell_type": "code",
   "execution_count": 13,
   "id": "394e92f0",
   "metadata": {
    "execution": {
     "iopub.execute_input": "2022-12-20T14:00:03.318672Z",
     "iopub.status.busy": "2022-12-20T14:00:03.317562Z",
     "iopub.status.idle": "2022-12-20T14:00:03.336047Z",
     "shell.execute_reply": "2022-12-20T14:00:03.334613Z"
    },
    "papermill": {
     "duration": 0.029291,
     "end_time": "2022-12-20T14:00:03.339672",
     "exception": false,
     "start_time": "2022-12-20T14:00:03.310381",
     "status": "completed"
    },
    "tags": []
   },
   "outputs": [],
   "source": [
    "# predictions\n",
    "# This model outputs boolean 0 or 1\n",
    "my_list = my_model.predict(imputed_X_test)\n"
   ]
  },
  {
   "cell_type": "code",
   "execution_count": 14,
   "id": "6b7bd956",
   "metadata": {
    "execution": {
     "iopub.execute_input": "2022-12-20T14:00:03.354636Z",
     "iopub.status.busy": "2022-12-20T14:00:03.354120Z",
     "iopub.status.idle": "2022-12-20T14:00:03.362656Z",
     "shell.execute_reply": "2022-12-20T14:00:03.361534Z"
    },
    "papermill": {
     "duration": 0.019022,
     "end_time": "2022-12-20T14:00:03.365218",
     "exception": false,
     "start_time": "2022-12-20T14:00:03.346196",
     "status": "completed"
    },
    "tags": []
   },
   "outputs": [
    {
     "data": {
      "text/plain": [
       "array([1, 0, 1, ..., 1, 1, 0])"
      ]
     },
     "execution_count": 14,
     "metadata": {},
     "output_type": "execute_result"
    }
   ],
   "source": [
    "my_list"
   ]
  },
  {
   "cell_type": "code",
   "execution_count": 15,
   "id": "a8a23992",
   "metadata": {
    "execution": {
     "iopub.execute_input": "2022-12-20T14:00:03.380388Z",
     "iopub.status.busy": "2022-12-20T14:00:03.378060Z",
     "iopub.status.idle": "2022-12-20T14:00:03.386003Z",
     "shell.execute_reply": "2022-12-20T14:00:03.384965Z"
    },
    "papermill": {
     "duration": 0.017704,
     "end_time": "2022-12-20T14:00:03.388756",
     "exception": false,
     "start_time": "2022-12-20T14:00:03.371052",
     "status": "completed"
    },
    "tags": []
   },
   "outputs": [],
   "source": [
    "# We want the output to be False or True. \n",
    "predictions = [bool(item) for item in my_list]"
   ]
  },
  {
   "cell_type": "code",
   "execution_count": 16,
   "id": "17e8bbac",
   "metadata": {
    "execution": {
     "iopub.execute_input": "2022-12-20T14:00:03.403713Z",
     "iopub.status.busy": "2022-12-20T14:00:03.402098Z",
     "iopub.status.idle": "2022-12-20T14:00:07.242393Z",
     "shell.execute_reply": "2022-12-20T14:00:07.241226Z"
    },
    "papermill": {
     "duration": 3.852735,
     "end_time": "2022-12-20T14:00:07.247084",
     "exception": false,
     "start_time": "2022-12-20T14:00:03.394349",
     "status": "completed"
    },
    "tags": []
   },
   "outputs": [
    {
     "name": "stdout",
     "output_type": "stream",
     "text": [
      "Mean cross-validation score: 0.79\n"
     ]
    }
   ],
   "source": [
    "#Use cross validation to evaluate the performance of the model\n",
    "from sklearn.model_selection import cross_val_score\n",
    "scores = cross_val_score(my_model, imputed_X_train, y, cv=5)\n",
    "print(\"Mean cross-validation score: %.2f\" % scores.mean())\n"
   ]
  },
  {
   "cell_type": "code",
   "execution_count": 17,
   "id": "9b633156",
   "metadata": {
    "execution": {
     "iopub.execute_input": "2022-12-20T14:00:07.262039Z",
     "iopub.status.busy": "2022-12-20T14:00:07.261615Z",
     "iopub.status.idle": "2022-12-20T14:00:07.281178Z",
     "shell.execute_reply": "2022-12-20T14:00:07.279141Z"
    },
    "papermill": {
     "duration": 0.031939,
     "end_time": "2022-12-20T14:00:07.285820",
     "exception": false,
     "start_time": "2022-12-20T14:00:07.253881",
     "status": "completed"
    },
    "tags": []
   },
   "outputs": [
    {
     "name": "stdout",
     "output_type": "stream",
     "text": [
      "Your submission was successfully saved!\n"
     ]
    }
   ],
   "source": [
    "# output predictions data\n",
    "output = pd.DataFrame({'PassengerId': test_data.PassengerId, 'Transported': predictions})\n",
    "output.to_csv('submission.csv', index=False)\n",
    "print(\"Your submission was successfully saved!\")"
   ]
  },
  {
   "cell_type": "code",
   "execution_count": null,
   "id": "85119a6d",
   "metadata": {},
   "outputs": [],
   "source": []
  }
 ],
 "metadata": {
  "kernelspec": {
   "display_name": "Python 3 (ipykernel)",
   "language": "python",
   "name": "python3"
  },
  "language_info": {
   "codemirror_mode": {
    "name": "ipython",
    "version": 3
   },
   "file_extension": ".py",
   "mimetype": "text/x-python",
   "name": "python",
   "nbconvert_exporter": "python",
   "pygments_lexer": "ipython3",
   "version": "3.9.12"
  },
  "papermill": {
   "default_parameters": {},
   "duration": 18.192255,
   "end_time": "2022-12-20T14:00:08.121253",
   "environment_variables": {},
   "exception": null,
   "input_path": "__notebook__.ipynb",
   "output_path": "__notebook__.ipynb",
   "parameters": {},
   "start_time": "2022-12-20T13:59:49.928998",
   "version": "2.3.4"
  }
 },
 "nbformat": 4,
 "nbformat_minor": 5
}
