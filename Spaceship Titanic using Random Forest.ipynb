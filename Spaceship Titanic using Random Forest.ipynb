{
 "cells": [
  {
   "cell_type": "code",
   "execution_count": 126,
   "id": "7d8f6c9d",
   "metadata": {
    "execution": {
     "iopub.execute_input": "2022-03-08T08:27:19.879036Z",
     "iopub.status.busy": "2022-03-08T08:27:19.878067Z",
     "iopub.status.idle": "2022-03-08T08:27:21.375847Z",
     "shell.execute_reply": "2022-03-08T08:27:21.375018Z",
     "shell.execute_reply.started": "2022-03-08T08:26:28.365506Z"
    },
    "papermill": {
     "duration": 1.531447,
     "end_time": "2022-03-08T08:27:21.376019",
     "exception": false,
     "start_time": "2022-03-08T08:27:19.844572",
     "status": "completed"
    },
    "tags": []
   },
   "outputs": [],
   "source": [
    "# Importing all the necessary library\n",
    "\n",
    "import pandas as pd\n",
    "from sklearn.impute import SimpleImputer\n",
    "from sklearn.metrics import accuracy_score\n",
    "from sklearn.preprocessing import LabelEncoder\n",
    "from sklearn.model_selection import train_test_split\n",
    "from sklearn.ensemble import RandomForestClassifier\n",
    "import matplotlib.pyplot as plt \n",
    "import seaborn as sns"
   ]
  },
  {
   "cell_type": "code",
   "execution_count": 127,
   "id": "20ae6628",
   "metadata": {
    "execution": {
     "iopub.execute_input": "2022-03-08T08:27:21.423614Z",
     "iopub.status.busy": "2022-03-08T08:27:21.423011Z",
     "iopub.status.idle": "2022-03-08T08:27:21.496744Z",
     "shell.execute_reply": "2022-03-08T08:27:21.496233Z",
     "shell.execute_reply.started": "2022-03-08T08:09:12.026321Z"
    },
    "papermill": {
     "duration": 0.097751,
     "end_time": "2022-03-08T08:27:21.496938",
     "exception": false,
     "start_time": "2022-03-08T08:27:21.399187",
     "status": "completed"
    },
    "tags": []
   },
   "outputs": [],
   "source": [
    "# Loading our training data as train_df and testing data as test_df\n",
    "\n",
    "train =pd.read_csv(\"train.csv\") \n",
    "test = pd.read_csv(\"test.csv\")"
   ]
  },
  {
   "cell_type": "code",
   "execution_count": 128,
   "id": "9c54d7e8",
   "metadata": {
    "execution": {
     "iopub.execute_input": "2022-03-08T08:27:21.549478Z",
     "iopub.status.busy": "2022-03-08T08:27:21.544675Z",
     "iopub.status.idle": "2022-03-08T08:27:21.559109Z",
     "shell.execute_reply": "2022-03-08T08:27:21.559561Z",
     "shell.execute_reply.started": "2022-03-08T08:09:12.108956Z"
    },
    "papermill": {
     "duration": 0.040559,
     "end_time": "2022-03-08T08:27:21.559726",
     "exception": false,
     "start_time": "2022-03-08T08:27:21.519167",
     "status": "completed"
    },
    "tags": []
   },
   "outputs": [
    {
     "data": {
      "text/plain": [
       "PassengerId       0\n",
       "HomePlanet      201\n",
       "CryoSleep       217\n",
       "Cabin           199\n",
       "Destination     182\n",
       "Age             179\n",
       "VIP             203\n",
       "RoomService     181\n",
       "FoodCourt       183\n",
       "ShoppingMall    208\n",
       "Spa             183\n",
       "VRDeck          188\n",
       "Name            200\n",
       "Transported       0\n",
       "dtype: int64"
      ]
     },
     "execution_count": 128,
     "metadata": {},
     "output_type": "execute_result"
    }
   ],
   "source": [
    "# checking for null values in training dataset\n",
    "\n",
    "train.isnull().sum()"
   ]
  },
  {
   "cell_type": "code",
   "execution_count": 129,
   "id": "e6e28811",
   "metadata": {
    "execution": {
     "iopub.execute_input": "2022-03-08T08:27:21.608230Z",
     "iopub.status.busy": "2022-03-08T08:27:21.607573Z",
     "iopub.status.idle": "2022-03-08T08:27:21.615374Z",
     "shell.execute_reply": "2022-03-08T08:27:21.615924Z",
     "shell.execute_reply.started": "2022-03-08T08:09:12.130057Z"
    },
    "papermill": {
     "duration": 0.033704,
     "end_time": "2022-03-08T08:27:21.616094",
     "exception": false,
     "start_time": "2022-03-08T08:27:21.582390",
     "status": "completed"
    },
    "tags": []
   },
   "outputs": [
    {
     "data": {
      "text/plain": [
       "PassengerId       0\n",
       "HomePlanet       87\n",
       "CryoSleep        93\n",
       "Cabin           100\n",
       "Destination      92\n",
       "Age              91\n",
       "VIP              93\n",
       "RoomService      82\n",
       "FoodCourt       106\n",
       "ShoppingMall     98\n",
       "Spa             101\n",
       "VRDeck           80\n",
       "Name             94\n",
       "dtype: int64"
      ]
     },
     "execution_count": 129,
     "metadata": {},
     "output_type": "execute_result"
    }
   ],
   "source": [
    "# checking null values in testing dataset\n",
    "\n",
    "test.isnull().sum()"
   ]
  },
  {
   "cell_type": "code",
   "execution_count": 130,
   "id": "7ea8fa98",
   "metadata": {
    "execution": {
     "iopub.execute_input": "2022-03-08T08:27:21.670326Z",
     "iopub.status.busy": "2022-03-08T08:27:21.669674Z",
     "iopub.status.idle": "2022-03-08T08:27:21.694611Z",
     "shell.execute_reply": "2022-03-08T08:27:21.693994Z",
     "shell.execute_reply.started": "2022-03-08T08:09:12.141839Z"
    },
    "papermill": {
     "duration": 0.056375,
     "end_time": "2022-03-08T08:27:21.694784",
     "exception": false,
     "start_time": "2022-03-08T08:27:21.638409",
     "status": "completed"
    },
    "tags": []
   },
   "outputs": [],
   "source": [
    "# filling the null values with median \n",
    "\n",
    "imputer_cols = [\"Age\", \"FoodCourt\", \"ShoppingMall\", \"Spa\", \"VRDeck\" ,\"RoomService\"]\n",
    "imputer = SimpleImputer(strategy=\"median\" )\n",
    "imputer.fit(train[imputer_cols])\n",
    "train[imputer_cols] = imputer.transform(train[imputer_cols])\n",
    "test[imputer_cols] = imputer.transform(test[imputer_cols])\n",
    "train[\"HomePlanet\"].fillna('Z', inplace=True)\n",
    "test[\"HomePlanet\"].fillna('Z', inplace=True)"
   ]
  },
  {
   "cell_type": "code",
   "execution_count": 131,
   "id": "ad4451f4",
   "metadata": {
    "execution": {
     "iopub.execute_input": "2022-03-08T08:27:21.751214Z",
     "iopub.status.busy": "2022-03-08T08:27:21.750580Z",
     "iopub.status.idle": "2022-03-08T08:27:21.794365Z",
     "shell.execute_reply": "2022-03-08T08:27:21.793687Z",
     "shell.execute_reply.started": "2022-03-08T08:09:12.176988Z"
    },
    "papermill": {
     "duration": 0.077094,
     "end_time": "2022-03-08T08:27:21.794511",
     "exception": false,
     "start_time": "2022-03-08T08:27:21.717417",
     "status": "completed"
    },
    "tags": []
   },
   "outputs": [],
   "source": [
    "# label encoding \n",
    "\n",
    "label_cols = [\"HomePlanet\", \"CryoSleep\",\"Cabin\", \"Destination\" ,\"VIP\"]\n",
    "def label_encoder(train_df,test_df,columns):\n",
    "    for col in columns:\n",
    "        train_df[col] = train_df[col].astype(str)\n",
    "        test_df[col] = test_df[col].astype(str)\n",
    "        train_df[col] = LabelEncoder().fit_transform(train[col])\n",
    "        test_df[col] =  LabelEncoder().fit_transform(test[col])\n",
    "    return train_df, test_df\n",
    "\n",
    "train ,test = label_encoder(train,test,label_cols)"
   ]
  },
  {
   "cell_type": "code",
   "execution_count": 132,
   "id": "e4dc2361",
   "metadata": {
    "execution": {
     "iopub.execute_input": "2022-03-08T08:27:21.844293Z",
     "iopub.status.busy": "2022-03-08T08:27:21.843648Z",
     "iopub.status.idle": "2022-03-08T08:27:21.871980Z",
     "shell.execute_reply": "2022-03-08T08:27:21.871379Z",
     "shell.execute_reply.started": "2022-03-08T08:24:44.925852Z"
    },
    "papermill": {
     "duration": 0.055205,
     "end_time": "2022-03-08T08:27:21.872121",
     "exception": false,
     "start_time": "2022-03-08T08:27:21.816916",
     "status": "completed"
    },
    "tags": []
   },
   "outputs": [
    {
     "data": {
      "text/html": [
       "<div>\n",
       "<style scoped>\n",
       "    .dataframe tbody tr th:only-of-type {\n",
       "        vertical-align: middle;\n",
       "    }\n",
       "\n",
       "    .dataframe tbody tr th {\n",
       "        vertical-align: top;\n",
       "    }\n",
       "\n",
       "    .dataframe thead th {\n",
       "        text-align: right;\n",
       "    }\n",
       "</style>\n",
       "<table border=\"1\" class=\"dataframe\">\n",
       "  <thead>\n",
       "    <tr style=\"text-align: right;\">\n",
       "      <th></th>\n",
       "      <th>HomePlanet</th>\n",
       "      <th>CryoSleep</th>\n",
       "      <th>Cabin</th>\n",
       "      <th>Destination</th>\n",
       "      <th>Age</th>\n",
       "      <th>VIP</th>\n",
       "      <th>RoomService</th>\n",
       "      <th>FoodCourt</th>\n",
       "      <th>ShoppingMall</th>\n",
       "      <th>Spa</th>\n",
       "      <th>VRDeck</th>\n",
       "      <th>Transported</th>\n",
       "    </tr>\n",
       "  </thead>\n",
       "  <tbody>\n",
       "    <tr>\n",
       "      <th>HomePlanet</th>\n",
       "      <td>1.000000</td>\n",
       "      <td>0.068726</td>\n",
       "      <td>-0.425569</td>\n",
       "      <td>0.042618</td>\n",
       "      <td>0.122943</td>\n",
       "      <td>0.044255</td>\n",
       "      <td>0.192189</td>\n",
       "      <td>0.056321</td>\n",
       "      <td>0.088970</td>\n",
       "      <td>0.045252</td>\n",
       "      <td>0.035631</td>\n",
       "      <td>0.107755</td>\n",
       "    </tr>\n",
       "    <tr>\n",
       "      <th>CryoSleep</th>\n",
       "      <td>0.068726</td>\n",
       "      <td>1.000000</td>\n",
       "      <td>0.100689</td>\n",
       "      <td>-0.085571</td>\n",
       "      <td>-0.068816</td>\n",
       "      <td>-0.023407</td>\n",
       "      <td>-0.216689</td>\n",
       "      <td>-0.182029</td>\n",
       "      <td>-0.188532</td>\n",
       "      <td>-0.178382</td>\n",
       "      <td>-0.171721</td>\n",
       "      <td>0.404716</td>\n",
       "    </tr>\n",
       "    <tr>\n",
       "      <th>Cabin</th>\n",
       "      <td>-0.425569</td>\n",
       "      <td>0.100689</td>\n",
       "      <td>1.000000</td>\n",
       "      <td>0.113260</td>\n",
       "      <td>-0.236994</td>\n",
       "      <td>-0.053158</td>\n",
       "      <td>-0.073802</td>\n",
       "      <td>-0.260056</td>\n",
       "      <td>-0.067709</td>\n",
       "      <td>-0.180768</td>\n",
       "      <td>-0.210865</td>\n",
       "      <td>-0.052604</td>\n",
       "    </tr>\n",
       "    <tr>\n",
       "      <th>Destination</th>\n",
       "      <td>0.042618</td>\n",
       "      <td>-0.085571</td>\n",
       "      <td>0.113260</td>\n",
       "      <td>1.000000</td>\n",
       "      <td>-0.004342</td>\n",
       "      <td>-0.024905</td>\n",
       "      <td>0.043735</td>\n",
       "      <td>-0.109558</td>\n",
       "      <td>0.022982</td>\n",
       "      <td>-0.052915</td>\n",
       "      <td>-0.072850</td>\n",
       "      <td>-0.104817</td>\n",
       "    </tr>\n",
       "    <tr>\n",
       "      <th>Age</th>\n",
       "      <td>0.122943</td>\n",
       "      <td>-0.068816</td>\n",
       "      <td>-0.236994</td>\n",
       "      <td>-0.004342</td>\n",
       "      <td>1.000000</td>\n",
       "      <td>0.032434</td>\n",
       "      <td>0.068629</td>\n",
       "      <td>0.127390</td>\n",
       "      <td>0.033148</td>\n",
       "      <td>0.120946</td>\n",
       "      <td>0.099590</td>\n",
       "      <td>-0.074233</td>\n",
       "    </tr>\n",
       "    <tr>\n",
       "      <th>VIP</th>\n",
       "      <td>0.044255</td>\n",
       "      <td>-0.023407</td>\n",
       "      <td>-0.053158</td>\n",
       "      <td>-0.024905</td>\n",
       "      <td>0.032434</td>\n",
       "      <td>1.000000</td>\n",
       "      <td>0.038011</td>\n",
       "      <td>0.054756</td>\n",
       "      <td>-0.009496</td>\n",
       "      <td>0.020355</td>\n",
       "      <td>0.054623</td>\n",
       "      <td>-0.014260</td>\n",
       "    </tr>\n",
       "    <tr>\n",
       "      <th>RoomService</th>\n",
       "      <td>0.192189</td>\n",
       "      <td>-0.216689</td>\n",
       "      <td>-0.073802</td>\n",
       "      <td>0.043735</td>\n",
       "      <td>0.068629</td>\n",
       "      <td>0.038011</td>\n",
       "      <td>1.000000</td>\n",
       "      <td>-0.015126</td>\n",
       "      <td>0.052337</td>\n",
       "      <td>0.009244</td>\n",
       "      <td>-0.018624</td>\n",
       "      <td>-0.241124</td>\n",
       "    </tr>\n",
       "    <tr>\n",
       "      <th>FoodCourt</th>\n",
       "      <td>0.056321</td>\n",
       "      <td>-0.182029</td>\n",
       "      <td>-0.260056</td>\n",
       "      <td>-0.109558</td>\n",
       "      <td>0.127390</td>\n",
       "      <td>0.054756</td>\n",
       "      <td>-0.015126</td>\n",
       "      <td>1.000000</td>\n",
       "      <td>-0.013717</td>\n",
       "      <td>0.221468</td>\n",
       "      <td>0.224572</td>\n",
       "      <td>0.045583</td>\n",
       "    </tr>\n",
       "    <tr>\n",
       "      <th>ShoppingMall</th>\n",
       "      <td>0.088970</td>\n",
       "      <td>-0.188532</td>\n",
       "      <td>-0.067709</td>\n",
       "      <td>0.022982</td>\n",
       "      <td>0.033148</td>\n",
       "      <td>-0.009496</td>\n",
       "      <td>0.052337</td>\n",
       "      <td>-0.013717</td>\n",
       "      <td>1.000000</td>\n",
       "      <td>0.014542</td>\n",
       "      <td>-0.007849</td>\n",
       "      <td>0.009391</td>\n",
       "    </tr>\n",
       "    <tr>\n",
       "      <th>Spa</th>\n",
       "      <td>0.045252</td>\n",
       "      <td>-0.178382</td>\n",
       "      <td>-0.180768</td>\n",
       "      <td>-0.052915</td>\n",
       "      <td>0.120946</td>\n",
       "      <td>0.020355</td>\n",
       "      <td>0.009244</td>\n",
       "      <td>0.221468</td>\n",
       "      <td>0.014542</td>\n",
       "      <td>1.000000</td>\n",
       "      <td>0.147658</td>\n",
       "      <td>-0.218545</td>\n",
       "    </tr>\n",
       "    <tr>\n",
       "      <th>VRDeck</th>\n",
       "      <td>0.035631</td>\n",
       "      <td>-0.171721</td>\n",
       "      <td>-0.210865</td>\n",
       "      <td>-0.072850</td>\n",
       "      <td>0.099590</td>\n",
       "      <td>0.054623</td>\n",
       "      <td>-0.018624</td>\n",
       "      <td>0.224572</td>\n",
       "      <td>-0.007849</td>\n",
       "      <td>0.147658</td>\n",
       "      <td>1.000000</td>\n",
       "      <td>-0.204874</td>\n",
       "    </tr>\n",
       "    <tr>\n",
       "      <th>Transported</th>\n",
       "      <td>0.107755</td>\n",
       "      <td>0.404716</td>\n",
       "      <td>-0.052604</td>\n",
       "      <td>-0.104817</td>\n",
       "      <td>-0.074233</td>\n",
       "      <td>-0.014260</td>\n",
       "      <td>-0.241124</td>\n",
       "      <td>0.045583</td>\n",
       "      <td>0.009391</td>\n",
       "      <td>-0.218545</td>\n",
       "      <td>-0.204874</td>\n",
       "      <td>1.000000</td>\n",
       "    </tr>\n",
       "  </tbody>\n",
       "</table>\n",
       "</div>"
      ],
      "text/plain": [
       "              HomePlanet  CryoSleep     Cabin  Destination       Age  \\\n",
       "HomePlanet      1.000000   0.068726 -0.425569     0.042618  0.122943   \n",
       "CryoSleep       0.068726   1.000000  0.100689    -0.085571 -0.068816   \n",
       "Cabin          -0.425569   0.100689  1.000000     0.113260 -0.236994   \n",
       "Destination     0.042618  -0.085571  0.113260     1.000000 -0.004342   \n",
       "Age             0.122943  -0.068816 -0.236994    -0.004342  1.000000   \n",
       "VIP             0.044255  -0.023407 -0.053158    -0.024905  0.032434   \n",
       "RoomService     0.192189  -0.216689 -0.073802     0.043735  0.068629   \n",
       "FoodCourt       0.056321  -0.182029 -0.260056    -0.109558  0.127390   \n",
       "ShoppingMall    0.088970  -0.188532 -0.067709     0.022982  0.033148   \n",
       "Spa             0.045252  -0.178382 -0.180768    -0.052915  0.120946   \n",
       "VRDeck          0.035631  -0.171721 -0.210865    -0.072850  0.099590   \n",
       "Transported     0.107755   0.404716 -0.052604    -0.104817 -0.074233   \n",
       "\n",
       "                   VIP  RoomService  FoodCourt  ShoppingMall       Spa  \\\n",
       "HomePlanet    0.044255     0.192189   0.056321      0.088970  0.045252   \n",
       "CryoSleep    -0.023407    -0.216689  -0.182029     -0.188532 -0.178382   \n",
       "Cabin        -0.053158    -0.073802  -0.260056     -0.067709 -0.180768   \n",
       "Destination  -0.024905     0.043735  -0.109558      0.022982 -0.052915   \n",
       "Age           0.032434     0.068629   0.127390      0.033148  0.120946   \n",
       "VIP           1.000000     0.038011   0.054756     -0.009496  0.020355   \n",
       "RoomService   0.038011     1.000000  -0.015126      0.052337  0.009244   \n",
       "FoodCourt     0.054756    -0.015126   1.000000     -0.013717  0.221468   \n",
       "ShoppingMall -0.009496     0.052337  -0.013717      1.000000  0.014542   \n",
       "Spa           0.020355     0.009244   0.221468      0.014542  1.000000   \n",
       "VRDeck        0.054623    -0.018624   0.224572     -0.007849  0.147658   \n",
       "Transported  -0.014260    -0.241124   0.045583      0.009391 -0.218545   \n",
       "\n",
       "                VRDeck  Transported  \n",
       "HomePlanet    0.035631     0.107755  \n",
       "CryoSleep    -0.171721     0.404716  \n",
       "Cabin        -0.210865    -0.052604  \n",
       "Destination  -0.072850    -0.104817  \n",
       "Age           0.099590    -0.074233  \n",
       "VIP           0.054623    -0.014260  \n",
       "RoomService  -0.018624    -0.241124  \n",
       "FoodCourt     0.224572     0.045583  \n",
       "ShoppingMall -0.007849     0.009391  \n",
       "Spa           0.147658    -0.218545  \n",
       "VRDeck        1.000000    -0.204874  \n",
       "Transported  -0.204874     1.000000  "
      ]
     },
     "execution_count": 132,
     "metadata": {},
     "output_type": "execute_result"
    }
   ],
   "source": [
    "cor = train.corr()\n",
    "cor"
   ]
  },
  {
   "cell_type": "code",
   "execution_count": 133,
   "id": "95001eb1",
   "metadata": {
    "execution": {
     "iopub.execute_input": "2022-03-08T08:27:21.924676Z",
     "iopub.status.busy": "2022-03-08T08:27:21.923790Z",
     "iopub.status.idle": "2022-03-08T08:27:22.752060Z",
     "shell.execute_reply": "2022-03-08T08:27:22.752532Z",
     "shell.execute_reply.started": "2022-03-08T08:26:51.096984Z"
    },
    "papermill": {
     "duration": 0.85739,
     "end_time": "2022-03-08T08:27:22.752710",
     "exception": false,
     "start_time": "2022-03-08T08:27:21.895320",
     "status": "completed"
    },
    "tags": []
   },
   "outputs": [
    {
     "data": {
      "image/png": "[encoded data removed]",
      "text/plain": [
       "<Figure size 792x648 with 2 Axes>"
      ]
     },
     "metadata": {},
     "output_type": "display_data"
    }
   ],
   "source": [
    "import seaborn as sns\n",
    "\n",
    "fig, ax = plt.subplots(figsize=(11, 9))\n",
    "ax = sns.heatmap(train.corr(), annot=True)\n",
    "plt.show()"
   ]
  },
  {
   "cell_type": "code",
   "execution_count": 134,
   "id": "a87a8517",
   "metadata": {
    "execution": {
     "iopub.execute_input": "2022-03-08T08:27:22.808231Z",
     "iopub.status.busy": "2022-03-08T08:27:22.807225Z",
     "iopub.status.idle": "2022-03-08T08:27:22.816126Z",
     "shell.execute_reply": "2022-03-08T08:27:22.815597Z",
     "shell.execute_reply.started": "2022-03-08T08:09:12.234498Z"
    },
    "papermill": {
     "duration": 0.037765,
     "end_time": "2022-03-08T08:27:22.816272",
     "exception": false,
     "start_time": "2022-03-08T08:27:22.778507",
     "status": "completed"
    },
    "tags": []
   },
   "outputs": [],
   "source": [
    "# Droping the Transported column from X_train because its the label we are trying to predict\n",
    "# Droping the Name column for X_train because its doest affect the outcome\n",
    "# Droping the Namr column for X_test\n",
    "\n",
    "X_train = train.drop([\"Transported\",\"Name\"], axis =1 )\n",
    "y_train = train[\"Transported\"]\n",
    "X_test = test.drop(\"Name\",axis=1)"
   ]
  },
  {
   "cell_type": "code",
   "execution_count": 135,
   "id": "307ec76d",
   "metadata": {
    "execution": {
     "iopub.execute_input": "2022-03-08T08:27:22.875007Z",
     "iopub.status.busy": "2022-03-08T08:27:22.874084Z",
     "iopub.status.idle": "2022-03-08T08:27:22.878091Z",
     "shell.execute_reply": "2022-03-08T08:27:22.877491Z",
     "shell.execute_reply.started": "2022-03-08T08:09:12.244908Z"
    },
    "papermill": {
     "duration": 0.035959,
     "end_time": "2022-03-08T08:27:22.878247",
     "exception": false,
     "start_time": "2022-03-08T08:27:22.842288",
     "status": "completed"
    },
    "tags": []
   },
   "outputs": [
    {
     "data": {
      "text/plain": [
       "PassengerId      object\n",
       "HomePlanet        int32\n",
       "CryoSleep         int32\n",
       "Cabin             int32\n",
       "Destination       int32\n",
       "Age             float64\n",
       "VIP               int32\n",
       "RoomService     float64\n",
       "FoodCourt       float64\n",
       "ShoppingMall    float64\n",
       "Spa             float64\n",
       "VRDeck          float64\n",
       "dtype: object"
      ]
     },
     "execution_count": 135,
     "metadata": {},
     "output_type": "execute_result"
    }
   ],
   "source": [
    "# Checking the datatypes of the Training dataset\n",
    "\n",
    "X_train.dtypes"
   ]
  },
  {
   "cell_type": "code",
   "execution_count": 136,
   "id": "92a2ade1",
   "metadata": {
    "execution": {
     "iopub.execute_input": "2022-03-08T08:27:22.935338Z",
     "iopub.status.busy": "2022-03-08T08:27:22.934638Z",
     "iopub.status.idle": "2022-03-08T08:27:22.937309Z",
     "shell.execute_reply": "2022-03-08T08:27:22.937728Z",
     "shell.execute_reply.started": "2022-03-08T08:09:12.262500Z"
    },
    "papermill": {
     "duration": 0.033813,
     "end_time": "2022-03-08T08:27:22.937904",
     "exception": false,
     "start_time": "2022-03-08T08:27:22.904091",
     "status": "completed"
    },
    "tags": []
   },
   "outputs": [
    {
     "data": {
      "text/plain": [
       "dtype('bool')"
      ]
     },
     "execution_count": 136,
     "metadata": {},
     "output_type": "execute_result"
    }
   ],
   "source": [
    "y_train.dtypes"
   ]
  },
  {
   "cell_type": "code",
   "execution_count": 137,
   "id": "1a68f384",
   "metadata": {
    "execution": {
     "iopub.execute_input": "2022-03-08T08:27:22.993458Z",
     "iopub.status.busy": "2022-03-08T08:27:22.992814Z",
     "iopub.status.idle": "2022-03-08T08:27:22.999206Z",
     "shell.execute_reply": "2022-03-08T08:27:22.999739Z",
     "shell.execute_reply.started": "2022-03-08T08:09:12.275234Z"
    },
    "papermill": {
     "duration": 0.036287,
     "end_time": "2022-03-08T08:27:22.999922",
     "exception": false,
     "start_time": "2022-03-08T08:27:22.963635",
     "status": "completed"
    },
    "tags": []
   },
   "outputs": [
    {
     "data": {
      "text/plain": [
       "PassengerId      object\n",
       "HomePlanet        int32\n",
       "CryoSleep         int32\n",
       "Cabin             int32\n",
       "Destination       int32\n",
       "Age             float64\n",
       "VIP               int32\n",
       "RoomService     float64\n",
       "FoodCourt       float64\n",
       "ShoppingMall    float64\n",
       "Spa             float64\n",
       "VRDeck          float64\n",
       "dtype: object"
      ]
     },
     "execution_count": 137,
     "metadata": {},
     "output_type": "execute_result"
    }
   ],
   "source": [
    "# Checking the datatypes of the Testing dataset\n",
    "\n",
    "X_test.dtypes"
   ]
  },
  {
   "cell_type": "code",
   "execution_count": 138,
   "id": "40f7948f",
   "metadata": {
    "execution": {
     "iopub.execute_input": "2022-03-08T08:27:23.055945Z",
     "iopub.status.busy": "2022-03-08T08:27:23.055288Z",
     "iopub.status.idle": "2022-03-08T08:27:23.085344Z",
     "shell.execute_reply": "2022-03-08T08:27:23.085853Z",
     "shell.execute_reply.started": "2022-03-08T08:09:12.289657Z"
    },
    "papermill": {
     "duration": 0.060053,
     "end_time": "2022-03-08T08:27:23.086022",
     "exception": false,
     "start_time": "2022-03-08T08:27:23.025969",
     "status": "completed"
    },
    "tags": []
   },
   "outputs": [],
   "source": [
    "le = LabelEncoder()\n",
    "X_train[\"PassengerId\"] = le.fit_transform(X_train[\"PassengerId\"])\n",
    "X_test[\"PassengerId\"]= le.fit_transform(X_test[\"PassengerId\"])"
   ]
  },
  {
   "cell_type": "code",
   "execution_count": 139,
   "id": "06817b47",
   "metadata": {
    "execution": {
     "iopub.execute_input": "2022-03-08T08:27:23.146295Z",
     "iopub.status.busy": "2022-03-08T08:27:23.145539Z",
     "iopub.status.idle": "2022-03-08T08:27:23.149004Z",
     "shell.execute_reply": "2022-03-08T08:27:23.148397Z",
     "shell.execute_reply.started": "2022-03-08T08:09:12.326194Z"
    },
    "papermill": {
     "duration": 0.036884,
     "end_time": "2022-03-08T08:27:23.149143",
     "exception": false,
     "start_time": "2022-03-08T08:27:23.112259",
     "status": "completed"
    },
    "tags": []
   },
   "outputs": [
    {
     "data": {
      "text/plain": [
       "PassengerId       int32\n",
       "HomePlanet        int32\n",
       "CryoSleep         int32\n",
       "Cabin             int32\n",
       "Destination       int32\n",
       "Age             float64\n",
       "VIP               int32\n",
       "RoomService     float64\n",
       "FoodCourt       float64\n",
       "ShoppingMall    float64\n",
       "Spa             float64\n",
       "VRDeck          float64\n",
       "dtype: object"
      ]
     },
     "execution_count": 139,
     "metadata": {},
     "output_type": "execute_result"
    }
   ],
   "source": [
    "X_train.dtypes"
   ]
  },
  {
   "cell_type": "code",
   "execution_count": 141,
   "id": "0bd9187d",
   "metadata": {},
   "outputs": [
    {
     "data": {
      "text/plain": [
       "0       False\n",
       "1        True\n",
       "2       False\n",
       "3       False\n",
       "4        True\n",
       "        ...  \n",
       "8688    False\n",
       "8689    False\n",
       "8690     True\n",
       "8691    False\n",
       "8692     True\n",
       "Name: Transported, Length: 8693, dtype: bool"
      ]
     },
     "execution_count": 141,
     "metadata": {},
     "output_type": "execute_result"
    }
   ],
   "source": [
    "y_train"
   ]
  },
  {
   "cell_type": "code",
   "execution_count": 143,
   "id": "419e3da2",
   "metadata": {},
   "outputs": [
    {
     "data": {
      "text/plain": [
       "<AxesSubplot:title={'center':'VIP'}>"
      ]
     },
     "execution_count": 143,
     "metadata": {},
     "output_type": "execute_result"
    },
    {
     "data": {
      "image/png": "[encoded data removed]",
      "text/plain": [
       "<Figure size 1008x1080 with 4 Axes>"
      ]
     },
     "metadata": {},
     "output_type": "display_data"
    }
   ],
   "source": [
    "# Visualize independent categorical features\n",
    "plt.figure(figsize = (14, 15)) \n",
    "plt.subplot(221)\n",
    "X_train['HomePlanet'].value_counts(normalize = True).plot.bar(title = 'HomePlanet')\n",
    "plt.subplot(222)\n",
    "X_train['CryoSleep'].value_counts(normalize = True).plot.bar(title = 'CryoSleep')\n",
    "plt.subplot(223)\n",
    "X_train['Destination'].value_counts(normalize = True).plot.bar(title = 'Destination')\n",
    "plt.subplot(224)\n",
    "X_train['VIP'].value_counts(normalize = True).plot.bar(title = 'VIP')"
   ]
  },
  {
   "cell_type": "markdown",
   "id": "9b4bce15",
   "metadata": {
    "papermill": {
     "duration": 0.026245,
     "end_time": "2022-03-08T08:27:23.201956",
     "exception": false,
     "start_time": "2022-03-08T08:27:23.175711",
     "status": "completed"
    },
    "tags": []
   },
   "source": [
    "# Building the Random Forest Model"
   ]
  },
  {
   "cell_type": "code",
   "execution_count": 146,
   "id": "9e160479",
   "metadata": {
    "execution": {
     "iopub.execute_input": "2022-03-08T08:27:23.259895Z",
     "iopub.status.busy": "2022-03-08T08:27:23.259105Z",
     "iopub.status.idle": "2022-03-08T08:27:23.261870Z",
     "shell.execute_reply": "2022-03-08T08:27:23.261389Z",
     "shell.execute_reply.started": "2022-03-08T08:09:12.334398Z"
    },
    "papermill": {
     "duration": 0.033514,
     "end_time": "2022-03-08T08:27:23.262002",
     "exception": false,
     "start_time": "2022-03-08T08:27:23.228488",
     "status": "completed"
    },
    "tags": []
   },
   "outputs": [],
   "source": [
    "# Building our Random Forest Model\n",
    "\n",
    "clf = RandomForestClassifier(max_depth=10, random_state=42)\n",
    "# max_depth: The number of splits that each decision tree is allowed to make"
   ]
  },
  {
   "cell_type": "code",
   "execution_count": 147,
   "id": "ef09b8b6",
   "metadata": {
    "execution": {
     "iopub.execute_input": "2022-03-08T08:27:23.322331Z",
     "iopub.status.busy": "2022-03-08T08:27:23.321691Z",
     "iopub.status.idle": "2022-03-08T08:27:24.277306Z",
     "shell.execute_reply": "2022-03-08T08:27:24.276698Z",
     "shell.execute_reply.started": "2022-03-08T08:09:12.348662Z"
    },
    "papermill": {
     "duration": 0.987899,
     "end_time": "2022-03-08T08:27:24.277454",
     "exception": false,
     "start_time": "2022-03-08T08:27:23.289555",
     "status": "completed"
    },
    "tags": []
   },
   "outputs": [
    {
     "data": {
      "text/plain": [
       "RandomForestClassifier(max_depth=10, random_state=42)"
      ]
     },
     "execution_count": 147,
     "metadata": {},
     "output_type": "execute_result"
    }
   ],
   "source": [
    "# Fitting the Model with training data\n",
    "\n",
    "clf.fit(X_train, y_train)"
   ]
  },
  {
   "cell_type": "markdown",
   "id": "7e5c3d98",
   "metadata": {
    "papermill": {
     "duration": 0.026337,
     "end_time": "2022-03-08T08:27:24.331688",
     "exception": false,
     "start_time": "2022-03-08T08:27:24.305351",
     "status": "completed"
    },
    "tags": []
   },
   "source": [
    "# Prediction on Testing dataset"
   ]
  },
  {
   "cell_type": "code",
   "execution_count": 148,
   "id": "5e67e537",
   "metadata": {
    "execution": {
     "iopub.execute_input": "2022-03-08T08:27:24.394036Z",
     "iopub.status.busy": "2022-03-08T08:27:24.391331Z",
     "iopub.status.idle": "2022-03-08T08:27:24.456111Z",
     "shell.execute_reply": "2022-03-08T08:27:24.455575Z",
     "shell.execute_reply.started": "2022-03-08T08:09:13.358919Z"
    },
    "papermill": {
     "duration": 0.097746,
     "end_time": "2022-03-08T08:27:24.456261",
     "exception": false,
     "start_time": "2022-03-08T08:27:24.358515",
     "status": "completed"
    },
    "tags": []
   },
   "outputs": [],
   "source": [
    "# Predicting the Test set results\n",
    "\n",
    "y_pred = clf.predict(X_test)"
   ]
  },
  {
   "cell_type": "code",
   "execution_count": 149,
   "id": "dc6bd5ee",
   "metadata": {
    "execution": {
     "iopub.execute_input": "2022-03-08T08:27:24.514110Z",
     "iopub.status.busy": "2022-03-08T08:27:24.513419Z",
     "iopub.status.idle": "2022-03-08T08:27:24.516946Z",
     "shell.execute_reply": "2022-03-08T08:27:24.516464Z",
     "shell.execute_reply.started": "2022-03-08T08:09:13.431364Z"
    },
    "papermill": {
     "duration": 0.034453,
     "end_time": "2022-03-08T08:27:24.517077",
     "exception": false,
     "start_time": "2022-03-08T08:27:24.482624",
     "status": "completed"
    },
    "tags": []
   },
   "outputs": [
    {
     "data": {
      "text/plain": [
       "array([ True, False,  True, ...,  True,  True,  True])"
      ]
     },
     "execution_count": 149,
     "metadata": {},
     "output_type": "execute_result"
    }
   ],
   "source": [
    "y_pred"
   ]
  },
  {
   "cell_type": "markdown",
   "id": "91ed953d",
   "metadata": {
    "execution": {
     "iopub.execute_input": "2022-03-06T04:31:36.142944Z",
     "iopub.status.busy": "2022-03-06T04:31:36.142008Z",
     "iopub.status.idle": "2022-03-06T04:31:36.148558Z",
     "shell.execute_reply": "2022-03-06T04:31:36.147529Z",
     "shell.execute_reply.started": "2022-03-06T04:31:36.1429Z"
    },
    "papermill": {
     "duration": 0.026412,
     "end_time": "2022-03-08T08:27:24.570276",
     "exception": false,
     "start_time": "2022-03-08T08:27:24.543864",
     "status": "completed"
    },
    "tags": []
   },
   "source": [
    "# Submission:"
   ]
  },
  {
   "cell_type": "code",
   "execution_count": 150,
   "id": "549de01f",
   "metadata": {
    "execution": {
     "iopub.execute_input": "2022-03-08T08:27:24.630916Z",
     "iopub.status.busy": "2022-03-08T08:27:24.629737Z",
     "iopub.status.idle": "2022-03-08T08:27:24.631805Z",
     "shell.execute_reply": "2022-03-08T08:27:24.632255Z",
     "shell.execute_reply.started": "2022-03-08T08:09:13.443483Z"
    },
    "papermill": {
     "duration": 0.035181,
     "end_time": "2022-03-08T08:27:24.632418",
     "exception": false,
     "start_time": "2022-03-08T08:27:24.597237",
     "status": "completed"
    },
    "tags": []
   },
   "outputs": [],
   "source": [
    "# Since Passenger Id was transformed we need to inverse transform it for submission\n",
    "\n",
    "X_test[\"PassengerId\"]= le.inverse_transform(X_test[\"PassengerId\"])"
   ]
  },
  {
   "cell_type": "code",
   "execution_count": 151,
   "id": "da5dc7e8",
   "metadata": {
    "execution": {
     "iopub.execute_input": "2022-03-08T08:27:24.694152Z",
     "iopub.status.busy": "2022-03-08T08:27:24.693403Z",
     "iopub.status.idle": "2022-03-08T08:27:24.696376Z",
     "shell.execute_reply": "2022-03-08T08:27:24.696813Z",
     "shell.execute_reply.started": "2022-03-08T08:09:13.455936Z"
    },
    "papermill": {
     "duration": 0.03649,
     "end_time": "2022-03-08T08:27:24.696978",
     "exception": false,
     "start_time": "2022-03-08T08:27:24.660488",
     "status": "completed"
    },
    "tags": []
   },
   "outputs": [
    {
     "data": {
      "text/plain": [
       "PassengerId      object\n",
       "HomePlanet        int32\n",
       "CryoSleep         int32\n",
       "Cabin             int32\n",
       "Destination       int32\n",
       "Age             float64\n",
       "VIP               int32\n",
       "RoomService     float64\n",
       "FoodCourt       float64\n",
       "ShoppingMall    float64\n",
       "Spa             float64\n",
       "VRDeck          float64\n",
       "dtype: object"
      ]
     },
     "execution_count": 151,
     "metadata": {},
     "output_type": "execute_result"
    }
   ],
   "source": [
    "# Checking the datatype of the testing dataset\n",
    "\n",
    "X_test.dtypes"
   ]
  },
  {
   "cell_type": "code",
   "execution_count": 152,
   "id": "8fe843d5",
   "metadata": {
    "execution": {
     "iopub.execute_input": "2022-03-08T08:27:24.754829Z",
     "iopub.status.busy": "2022-03-08T08:27:24.753908Z",
     "iopub.status.idle": "2022-03-08T08:27:24.759465Z",
     "shell.execute_reply": "2022-03-08T08:27:24.759894Z",
     "shell.execute_reply.started": "2022-03-08T08:09:13.471589Z"
    },
    "papermill": {
     "duration": 0.036215,
     "end_time": "2022-03-08T08:27:24.760067",
     "exception": false,
     "start_time": "2022-03-08T08:27:24.723852",
     "status": "completed"
    },
    "tags": []
   },
   "outputs": [],
   "source": [
    "# Creating a new dataframe for submission which will have PassengerId and Transported Column\n",
    "\n",
    "submission = pd.DataFrame(\n",
    "    {'PassengerId':X_test[\"PassengerId\"] ,\n",
    "     'Transported': y_pred},columns=['PassengerId', 'Transported'])"
   ]
  },
  {
   "cell_type": "code",
   "execution_count": 153,
   "id": "b8689b6b",
   "metadata": {
    "execution": {
     "iopub.execute_input": "2022-03-08T08:27:24.818172Z",
     "iopub.status.busy": "2022-03-08T08:27:24.817217Z",
     "iopub.status.idle": "2022-03-08T08:27:24.829226Z",
     "shell.execute_reply": "2022-03-08T08:27:24.829649Z",
     "shell.execute_reply.started": "2022-03-08T08:09:13.484737Z"
    },
    "papermill": {
     "duration": 0.042704,
     "end_time": "2022-03-08T08:27:24.829856",
     "exception": false,
     "start_time": "2022-03-08T08:27:24.787152",
     "status": "completed"
    },
    "tags": []
   },
   "outputs": [],
   "source": [
    "# Saving our Submisson File\n",
    "\n",
    "submission.to_csv(\"submission.csv\",index=False)"
   ]
  },
  {
   "cell_type": "code",
   "execution_count": 154,
   "id": "13b223a1",
   "metadata": {
    "execution": {
     "iopub.execute_input": "2022-03-08T08:27:24.889458Z",
     "iopub.status.busy": "2022-03-08T08:27:24.888452Z",
     "iopub.status.idle": "2022-03-08T08:27:24.893687Z",
     "shell.execute_reply": "2022-03-08T08:27:24.894108Z",
     "shell.execute_reply.started": "2022-03-08T08:09:13.516166Z"
    },
    "papermill": {
     "duration": 0.036551,
     "end_time": "2022-03-08T08:27:24.894280",
     "exception": false,
     "start_time": "2022-03-08T08:27:24.857729",
     "status": "completed"
    },
    "tags": []
   },
   "outputs": [
    {
     "data": {
      "text/plain": [
       "(4277, 2)"
      ]
     },
     "execution_count": 154,
     "metadata": {},
     "output_type": "execute_result"
    }
   ],
   "source": [
    "# Checking the dimension of our submission Compitetion requires submission file shape to be(4277,2)\n",
    "\n",
    "submission.shape"
   ]
  },
  {
   "cell_type": "code",
   "execution_count": 155,
   "id": "820702f3",
   "metadata": {},
   "outputs": [],
   "source": [
    "X = train.drop(columns = ['Transported', 'Name'])\n",
    "y = train[['PassengerId', 'Transported']]"
   ]
  },
  {
   "cell_type": "code",
   "execution_count": 156,
   "id": "36082179",
   "metadata": {},
   "outputs": [
    {
     "data": {
      "text/html": [
       "<div>\n",
       "<style scoped>\n",
       "    .dataframe tbody tr th:only-of-type {\n",
       "        vertical-align: middle;\n",
       "    }\n",
       "\n",
       "    .dataframe tbody tr th {\n",
       "        vertical-align: top;\n",
       "    }\n",
       "\n",
       "    .dataframe thead th {\n",
       "        text-align: right;\n",
       "    }\n",
       "</style>\n",
       "<table border=\"1\" class=\"dataframe\">\n",
       "  <thead>\n",
       "    <tr style=\"text-align: right;\">\n",
       "      <th></th>\n",
       "      <th>PassengerId</th>\n",
       "      <th>HomePlanet</th>\n",
       "      <th>CryoSleep</th>\n",
       "      <th>Cabin</th>\n",
       "      <th>Destination</th>\n",
       "      <th>Age</th>\n",
       "      <th>VIP</th>\n",
       "      <th>RoomService</th>\n",
       "      <th>FoodCourt</th>\n",
       "      <th>ShoppingMall</th>\n",
       "      <th>Spa</th>\n",
       "      <th>VRDeck</th>\n",
       "    </tr>\n",
       "  </thead>\n",
       "  <tbody>\n",
       "    <tr>\n",
       "      <th>0</th>\n",
       "      <td>0001_01</td>\n",
       "      <td>1</td>\n",
       "      <td>0</td>\n",
       "      <td>149</td>\n",
       "      <td>2</td>\n",
       "      <td>39.0</td>\n",
       "      <td>0</td>\n",
       "      <td>0.0</td>\n",
       "      <td>0.0</td>\n",
       "      <td>0.0</td>\n",
       "      <td>0.0</td>\n",
       "      <td>0.0</td>\n",
       "    </tr>\n",
       "    <tr>\n",
       "      <th>1</th>\n",
       "      <td>0002_01</td>\n",
       "      <td>0</td>\n",
       "      <td>0</td>\n",
       "      <td>2184</td>\n",
       "      <td>2</td>\n",
       "      <td>24.0</td>\n",
       "      <td>0</td>\n",
       "      <td>109.0</td>\n",
       "      <td>9.0</td>\n",
       "      <td>25.0</td>\n",
       "      <td>549.0</td>\n",
       "      <td>44.0</td>\n",
       "    </tr>\n",
       "    <tr>\n",
       "      <th>2</th>\n",
       "      <td>0003_01</td>\n",
       "      <td>1</td>\n",
       "      <td>0</td>\n",
       "      <td>1</td>\n",
       "      <td>2</td>\n",
       "      <td>58.0</td>\n",
       "      <td>1</td>\n",
       "      <td>43.0</td>\n",
       "      <td>3576.0</td>\n",
       "      <td>0.0</td>\n",
       "      <td>6715.0</td>\n",
       "      <td>49.0</td>\n",
       "    </tr>\n",
       "    <tr>\n",
       "      <th>3</th>\n",
       "      <td>0003_02</td>\n",
       "      <td>1</td>\n",
       "      <td>0</td>\n",
       "      <td>1</td>\n",
       "      <td>2</td>\n",
       "      <td>33.0</td>\n",
       "      <td>0</td>\n",
       "      <td>0.0</td>\n",
       "      <td>1283.0</td>\n",
       "      <td>371.0</td>\n",
       "      <td>3329.0</td>\n",
       "      <td>193.0</td>\n",
       "    </tr>\n",
       "    <tr>\n",
       "      <th>4</th>\n",
       "      <td>0004_01</td>\n",
       "      <td>0</td>\n",
       "      <td>0</td>\n",
       "      <td>2186</td>\n",
       "      <td>2</td>\n",
       "      <td>16.0</td>\n",
       "      <td>0</td>\n",
       "      <td>303.0</td>\n",
       "      <td>70.0</td>\n",
       "      <td>151.0</td>\n",
       "      <td>565.0</td>\n",
       "      <td>2.0</td>\n",
       "    </tr>\n",
       "    <tr>\n",
       "      <th>...</th>\n",
       "      <td>...</td>\n",
       "      <td>...</td>\n",
       "      <td>...</td>\n",
       "      <td>...</td>\n",
       "      <td>...</td>\n",
       "      <td>...</td>\n",
       "      <td>...</td>\n",
       "      <td>...</td>\n",
       "      <td>...</td>\n",
       "      <td>...</td>\n",
       "      <td>...</td>\n",
       "      <td>...</td>\n",
       "    </tr>\n",
       "    <tr>\n",
       "      <th>8688</th>\n",
       "      <td>9276_01</td>\n",
       "      <td>1</td>\n",
       "      <td>0</td>\n",
       "      <td>146</td>\n",
       "      <td>0</td>\n",
       "      <td>41.0</td>\n",
       "      <td>1</td>\n",
       "      <td>0.0</td>\n",
       "      <td>6819.0</td>\n",
       "      <td>0.0</td>\n",
       "      <td>1643.0</td>\n",
       "      <td>74.0</td>\n",
       "    </tr>\n",
       "    <tr>\n",
       "      <th>8689</th>\n",
       "      <td>9278_01</td>\n",
       "      <td>0</td>\n",
       "      <td>1</td>\n",
       "      <td>5280</td>\n",
       "      <td>1</td>\n",
       "      <td>18.0</td>\n",
       "      <td>0</td>\n",
       "      <td>0.0</td>\n",
       "      <td>0.0</td>\n",
       "      <td>0.0</td>\n",
       "      <td>0.0</td>\n",
       "      <td>0.0</td>\n",
       "    </tr>\n",
       "    <tr>\n",
       "      <th>8690</th>\n",
       "      <td>9279_01</td>\n",
       "      <td>0</td>\n",
       "      <td>0</td>\n",
       "      <td>5285</td>\n",
       "      <td>2</td>\n",
       "      <td>26.0</td>\n",
       "      <td>0</td>\n",
       "      <td>0.0</td>\n",
       "      <td>0.0</td>\n",
       "      <td>1872.0</td>\n",
       "      <td>1.0</td>\n",
       "      <td>0.0</td>\n",
       "    </tr>\n",
       "    <tr>\n",
       "      <th>8691</th>\n",
       "      <td>9280_01</td>\n",
       "      <td>1</td>\n",
       "      <td>0</td>\n",
       "      <td>2131</td>\n",
       "      <td>0</td>\n",
       "      <td>32.0</td>\n",
       "      <td>0</td>\n",
       "      <td>0.0</td>\n",
       "      <td>1049.0</td>\n",
       "      <td>0.0</td>\n",
       "      <td>353.0</td>\n",
       "      <td>3235.0</td>\n",
       "    </tr>\n",
       "    <tr>\n",
       "      <th>8692</th>\n",
       "      <td>9280_02</td>\n",
       "      <td>1</td>\n",
       "      <td>0</td>\n",
       "      <td>2131</td>\n",
       "      <td>2</td>\n",
       "      <td>44.0</td>\n",
       "      <td>0</td>\n",
       "      <td>126.0</td>\n",
       "      <td>4688.0</td>\n",
       "      <td>0.0</td>\n",
       "      <td>0.0</td>\n",
       "      <td>12.0</td>\n",
       "    </tr>\n",
       "  </tbody>\n",
       "</table>\n",
       "<p>8693 rows × 12 columns</p>\n",
       "</div>"
      ],
      "text/plain": [
       "     PassengerId  HomePlanet  CryoSleep  Cabin  Destination   Age  VIP  \\\n",
       "0        0001_01           1          0    149            2  39.0    0   \n",
       "1        0002_01           0          0   2184            2  24.0    0   \n",
       "2        0003_01           1          0      1            2  58.0    1   \n",
       "3        0003_02           1          0      1            2  33.0    0   \n",
       "4        0004_01           0          0   2186            2  16.0    0   \n",
       "...          ...         ...        ...    ...          ...   ...  ...   \n",
       "8688     9276_01           1          0    146            0  41.0    1   \n",
       "8689     9278_01           0          1   5280            1  18.0    0   \n",
       "8690     9279_01           0          0   5285            2  26.0    0   \n",
       "8691     9280_01           1          0   2131            0  32.0    0   \n",
       "8692     9280_02           1          0   2131            2  44.0    0   \n",
       "\n",
       "      RoomService  FoodCourt  ShoppingMall     Spa  VRDeck  \n",
       "0             0.0        0.0           0.0     0.0     0.0  \n",
       "1           109.0        9.0          25.0   549.0    44.0  \n",
       "2            43.0     3576.0           0.0  6715.0    49.0  \n",
       "3             0.0     1283.0         371.0  3329.0   193.0  \n",
       "4           303.0       70.0         151.0   565.0     2.0  \n",
       "...           ...        ...           ...     ...     ...  \n",
       "8688          0.0     6819.0           0.0  1643.0    74.0  \n",
       "8689          0.0        0.0           0.0     0.0     0.0  \n",
       "8690          0.0        0.0        1872.0     1.0     0.0  \n",
       "8691          0.0     1049.0           0.0   353.0  3235.0  \n",
       "8692        126.0     4688.0           0.0     0.0    12.0  \n",
       "\n",
       "[8693 rows x 12 columns]"
      ]
     },
     "execution_count": 156,
     "metadata": {},
     "output_type": "execute_result"
    }
   ],
   "source": [
    "X"
   ]
  },
  {
   "cell_type": "code",
   "execution_count": 157,
   "id": "186eb7d4",
   "metadata": {},
   "outputs": [
    {
     "data": {
      "text/html": [
       "<div>\n",
       "<style scoped>\n",
       "    .dataframe tbody tr th:only-of-type {\n",
       "        vertical-align: middle;\n",
       "    }\n",
       "\n",
       "    .dataframe tbody tr th {\n",
       "        vertical-align: top;\n",
       "    }\n",
       "\n",
       "    .dataframe thead th {\n",
       "        text-align: right;\n",
       "    }\n",
       "</style>\n",
       "<table border=\"1\" class=\"dataframe\">\n",
       "  <thead>\n",
       "    <tr style=\"text-align: right;\">\n",
       "      <th></th>\n",
       "      <th>PassengerId</th>\n",
       "      <th>Transported</th>\n",
       "    </tr>\n",
       "  </thead>\n",
       "  <tbody>\n",
       "    <tr>\n",
       "      <th>0</th>\n",
       "      <td>0001_01</td>\n",
       "      <td>False</td>\n",
       "    </tr>\n",
       "    <tr>\n",
       "      <th>1</th>\n",
       "      <td>0002_01</td>\n",
       "      <td>True</td>\n",
       "    </tr>\n",
       "    <tr>\n",
       "      <th>2</th>\n",
       "      <td>0003_01</td>\n",
       "      <td>False</td>\n",
       "    </tr>\n",
       "    <tr>\n",
       "      <th>3</th>\n",
       "      <td>0003_02</td>\n",
       "      <td>False</td>\n",
       "    </tr>\n",
       "    <tr>\n",
       "      <th>4</th>\n",
       "      <td>0004_01</td>\n",
       "      <td>True</td>\n",
       "    </tr>\n",
       "    <tr>\n",
       "      <th>...</th>\n",
       "      <td>...</td>\n",
       "      <td>...</td>\n",
       "    </tr>\n",
       "    <tr>\n",
       "      <th>8688</th>\n",
       "      <td>9276_01</td>\n",
       "      <td>False</td>\n",
       "    </tr>\n",
       "    <tr>\n",
       "      <th>8689</th>\n",
       "      <td>9278_01</td>\n",
       "      <td>False</td>\n",
       "    </tr>\n",
       "    <tr>\n",
       "      <th>8690</th>\n",
       "      <td>9279_01</td>\n",
       "      <td>True</td>\n",
       "    </tr>\n",
       "    <tr>\n",
       "      <th>8691</th>\n",
       "      <td>9280_01</td>\n",
       "      <td>False</td>\n",
       "    </tr>\n",
       "    <tr>\n",
       "      <th>8692</th>\n",
       "      <td>9280_02</td>\n",
       "      <td>True</td>\n",
       "    </tr>\n",
       "  </tbody>\n",
       "</table>\n",
       "<p>8693 rows × 2 columns</p>\n",
       "</div>"
      ],
      "text/plain": [
       "     PassengerId  Transported\n",
       "0        0001_01        False\n",
       "1        0002_01         True\n",
       "2        0003_01        False\n",
       "3        0003_02        False\n",
       "4        0004_01         True\n",
       "...          ...          ...\n",
       "8688     9276_01        False\n",
       "8689     9278_01        False\n",
       "8690     9279_01         True\n",
       "8691     9280_01        False\n",
       "8692     9280_02         True\n",
       "\n",
       "[8693 rows x 2 columns]"
      ]
     },
     "execution_count": 157,
     "metadata": {},
     "output_type": "execute_result"
    }
   ],
   "source": [
    "y"
   ]
  },
  {
   "cell_type": "code",
   "execution_count": 158,
   "id": "59684fd3",
   "metadata": {
    "scrolled": true
   },
   "outputs": [],
   "source": [
    "X_train, X_test, y_train, y_test = train_test_split(X, y, test_size=0.3, random_state=0)"
   ]
  },
  {
   "cell_type": "code",
   "execution_count": 159,
   "id": "f348c0d3",
   "metadata": {},
   "outputs": [],
   "source": [
    "y_pred = clf.predict(X_test)"
   ]
  },
  {
   "cell_type": "code",
   "execution_count": 160,
   "id": "1962f74b",
   "metadata": {},
   "outputs": [
    {
     "data": {
      "text/html": [
       "<div>\n",
       "<style scoped>\n",
       "    .dataframe tbody tr th:only-of-type {\n",
       "        vertical-align: middle;\n",
       "    }\n",
       "\n",
       "    .dataframe tbody tr th {\n",
       "        vertical-align: top;\n",
       "    }\n",
       "\n",
       "    .dataframe thead th {\n",
       "        text-align: right;\n",
       "    }\n",
       "</style>\n",
       "<table border=\"1\" class=\"dataframe\">\n",
       "  <thead>\n",
       "    <tr style=\"text-align: right;\">\n",
       "      <th></th>\n",
       "      <th>PassengerId</th>\n",
       "      <th>Transported</th>\n",
       "    </tr>\n",
       "  </thead>\n",
       "  <tbody>\n",
       "    <tr>\n",
       "      <th>3601</th>\n",
       "      <td>3868_05</td>\n",
       "      <td>True</td>\n",
       "    </tr>\n",
       "    <tr>\n",
       "      <th>6057</th>\n",
       "      <td>6405_02</td>\n",
       "      <td>True</td>\n",
       "    </tr>\n",
       "    <tr>\n",
       "      <th>2797</th>\n",
       "      <td>3021_01</td>\n",
       "      <td>False</td>\n",
       "    </tr>\n",
       "    <tr>\n",
       "      <th>7110</th>\n",
       "      <td>7578_01</td>\n",
       "      <td>False</td>\n",
       "    </tr>\n",
       "    <tr>\n",
       "      <th>8579</th>\n",
       "      <td>9158_01</td>\n",
       "      <td>True</td>\n",
       "    </tr>\n",
       "    <tr>\n",
       "      <th>...</th>\n",
       "      <td>...</td>\n",
       "      <td>...</td>\n",
       "    </tr>\n",
       "    <tr>\n",
       "      <th>7081</th>\n",
       "      <td>7536_01</td>\n",
       "      <td>True</td>\n",
       "    </tr>\n",
       "    <tr>\n",
       "      <th>2873</th>\n",
       "      <td>3104_01</td>\n",
       "      <td>True</td>\n",
       "    </tr>\n",
       "    <tr>\n",
       "      <th>3420</th>\n",
       "      <td>3688_01</td>\n",
       "      <td>True</td>\n",
       "    </tr>\n",
       "    <tr>\n",
       "      <th>535</th>\n",
       "      <td>0569_01</td>\n",
       "      <td>True</td>\n",
       "    </tr>\n",
       "    <tr>\n",
       "      <th>5117</th>\n",
       "      <td>5466_04</td>\n",
       "      <td>False</td>\n",
       "    </tr>\n",
       "  </tbody>\n",
       "</table>\n",
       "<p>2608 rows × 2 columns</p>\n",
       "</div>"
      ],
      "text/plain": [
       "     PassengerId  Transported\n",
       "3601     3868_05         True\n",
       "6057     6405_02         True\n",
       "2797     3021_01        False\n",
       "7110     7578_01        False\n",
       "8579     9158_01         True\n",
       "...          ...          ...\n",
       "7081     7536_01         True\n",
       "2873     3104_01         True\n",
       "3420     3688_01         True\n",
       "535      0569_01         True\n",
       "5117     5466_04        False\n",
       "\n",
       "[2608 rows x 2 columns]"
      ]
     },
     "execution_count": 160,
     "metadata": {},
     "output_type": "execute_result"
    }
   ],
   "source": [
    "y_test"
   ]
  },
  {
   "cell_type": "code",
   "execution_count": 161,
   "id": "2b1e1582",
   "metadata": {},
   "outputs": [
    {
     "data": {
      "text/plain": [
       "array([False,  True, False, ...,  True,  True, False])"
      ]
     },
     "execution_count": 161,
     "metadata": {},
     "output_type": "execute_result"
    }
   ],
   "source": [
    "y_pred"
   ]
  },
  {
   "cell_type": "code",
   "execution_count": 162,
   "id": "95f79b8f",
   "metadata": {},
   "outputs": [
    {
     "data": {
      "text/plain": [
       "3601     True\n",
       "6057     True\n",
       "2797    False\n",
       "7110    False\n",
       "8579     True\n",
       "        ...  \n",
       "7081     True\n",
       "2873     True\n",
       "3420     True\n",
       "535      True\n",
       "5117    False\n",
       "Name: Transported, Length: 2608, dtype: bool"
      ]
     },
     "execution_count": 162,
     "metadata": {},
     "output_type": "execute_result"
    }
   ],
   "source": [
    "y = y_test.iloc[:,-1]\n",
    "y"
   ]
  },
  {
   "cell_type": "code",
   "execution_count": 163,
   "id": "57960199",
   "metadata": {},
   "outputs": [
    {
     "data": {
      "text/plain": [
       "pandas.core.series.Series"
      ]
     },
     "execution_count": 163,
     "metadata": {},
     "output_type": "execute_result"
    }
   ],
   "source": [
    "type(y)"
   ]
  },
  {
   "cell_type": "code",
   "execution_count": 164,
   "id": "2a799715",
   "metadata": {},
   "outputs": [
    {
     "data": {
      "text/plain": [
       "numpy.ndarray"
      ]
     },
     "execution_count": 164,
     "metadata": {},
     "output_type": "execute_result"
    }
   ],
   "source": [
    "type(y_pred)"
   ]
  },
  {
   "cell_type": "code",
   "execution_count": 165,
   "id": "1b004210",
   "metadata": {},
   "outputs": [
    {
     "data": {
      "text/plain": [
       "array([ True,  True, False, ...,  True,  True, False])"
      ]
     },
     "execution_count": 165,
     "metadata": {},
     "output_type": "execute_result"
    }
   ],
   "source": [
    "import numpy as np\n",
    "np.array(y)"
   ]
  },
  {
   "cell_type": "code",
   "execution_count": 166,
   "id": "e2175001",
   "metadata": {},
   "outputs": [
    {
     "data": {
      "text/plain": [
       "array([1, 1, 0, ..., 1, 1, 0], dtype=int64)"
      ]
     },
     "execution_count": 166,
     "metadata": {},
     "output_type": "execute_result"
    }
   ],
   "source": [
    "from sklearn import preprocessing\n",
    "\n",
    "le = preprocessing.LabelEncoder()\n",
    "le.fit(y)\n",
    "y = le.transform(y)\n",
    "y"
   ]
  },
  {
   "cell_type": "code",
   "execution_count": 167,
   "id": "766d3be5",
   "metadata": {},
   "outputs": [
    {
     "data": {
      "text/plain": [
       "array([0, 1, 0, ..., 1, 1, 0], dtype=int64)"
      ]
     },
     "execution_count": 167,
     "metadata": {},
     "output_type": "execute_result"
    }
   ],
   "source": [
    "le = preprocessing.LabelEncoder()\n",
    "le.fit(y_pred)\n",
    "y_pred = le.transform(y_pred)\n",
    "y_pred"
   ]
  },
  {
   "cell_type": "code",
   "execution_count": 168,
   "id": "be767a2a",
   "metadata": {},
   "outputs": [
    {
     "name": "stdout",
     "output_type": "stream",
     "text": [
      "              precision    recall  f1-score   support\n",
      "\n",
      "           0       0.87      0.79      0.83      1303\n",
      "           1       0.81      0.88      0.84      1305\n",
      "\n",
      "    accuracy                           0.84      2608\n",
      "   macro avg       0.84      0.84      0.84      2608\n",
      "weighted avg       0.84      0.84      0.84      2608\n",
      "\n"
     ]
    }
   ],
   "source": [
    "from sklearn.metrics import classification_report\n",
    "print(classification_report(y, y_pred))"
   ]
  },
  {
   "cell_type": "code",
   "execution_count": 169,
   "id": "5229824e",
   "metadata": {},
   "outputs": [
    {
     "name": "stdout",
     "output_type": "stream",
     "text": [
      "The model's accuracy score is 83.55%\n"
     ]
    }
   ],
   "source": [
    "from sklearn.metrics import confusion_matrix, accuracy_score\n",
    "print(f\"The model's accuracy score is {round(accuracy_score(y, y_pred)*100, 2)}%\")"
   ]
  },
  {
   "cell_type": "code",
   "execution_count": 170,
   "id": "94990cf3",
   "metadata": {},
   "outputs": [
    {
     "name": "stdout",
     "output_type": "stream",
     "text": [
      "[[1027  276]\n",
      " [ 153 1152]]\n"
     ]
    }
   ],
   "source": [
    "from sklearn.metrics import confusion_matrix\n",
    "print(confusion_matrix(y, y_pred))"
   ]
  },
  {
   "cell_type": "code",
   "execution_count": 171,
   "id": "2907dfe8",
   "metadata": {},
   "outputs": [
    {
     "data": {
      "text/plain": [
       "<AxesSubplot:xlabel='Predicted', ylabel='Actual'>"
      ]
     },
     "execution_count": 171,
     "metadata": {},
     "output_type": "execute_result"
    },
    {
     "data": {
      "image/png": "[encoded data removed]",
      "text/plain": [
       "<Figure size 720x504 with 2 Axes>"
      ]
     },
     "metadata": {},
     "output_type": "display_data"
    }
   ],
   "source": [
    "data = confusion_matrix(y, y_pred)\n",
    "df_cm = pd.DataFrame(data, columns=np.unique(y), index = np.unique(y_pred))\n",
    "df_cm.index.name = 'Actual'\n",
    "df_cm.columns.name = 'Predicted'\n",
    "plt.figure(figsize = (10,7))\n",
    "sns.set(font_scale=1.4) # for label size\n",
    "sns.heatmap(df_cm/np.sum(df_cm), cmap=\"Purples\", annot=True,annot_kws={\"size\": 16}, fmt = '.2%')"
   ]
  },
  {
   "cell_type": "code",
   "execution_count": null,
   "id": "aac2bcf3",
   "metadata": {},
   "outputs": [],
   "source": []
  },
  {
   "cell_type": "code",
   "execution_count": null,
   "id": "142230b0",
   "metadata": {},
   "outputs": [],
   "source": []
  },
  {
   "cell_type": "code",
   "execution_count": null,
   "id": "7d07caa6",
   "metadata": {},
   "outputs": [],
   "source": []
  }
 ],
 "metadata": {
  "kernelspec": {
   "display_name": "Python 3 (ipykernel)",
   "language": "python",
   "name": "python3"
  },
  "language_info": {
   "codemirror_mode": {
    "name": "ipython",
    "version": 3
   },
   "file_extension": ".py",
   "mimetype": "text/x-python",
   "name": "python",
   "nbconvert_exporter": "python",
   "pygments_lexer": "ipython3",
   "version": "3.9.12"
  },
  "papermill": {
   "default_parameters": {},
   "duration": 14.998281,
   "end_time": "2022-03-08T08:27:25.686867",
   "environment_variables": {},
   "exception": null,
   "input_path": "__notebook__.ipynb",
   "output_path": "__notebook__.ipynb",
   "parameters": {},
   "start_time": "2022-03-08T08:27:10.688586",
   "version": "2.3.3"
  }
 },
 "nbformat": 4,
 "nbformat_minor": 5
}
